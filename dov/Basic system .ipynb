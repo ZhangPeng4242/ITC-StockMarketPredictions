{
 "cells": [
  {
   "cell_type": "code",
   "execution_count": 23,
   "id": "7b103c5a",
   "metadata": {
    "ExecuteTime": {
     "end_time": "2022-06-10T13:47:00.928115Z",
     "start_time": "2022-06-10T13:47:00.912113Z"
    }
   },
   "outputs": [],
   "source": [
    "import pandas as pd \n",
    "import numpy as np\n",
    "import pandas_datareader as wb\n",
    "import datetime as dt\n",
    "import yfinance as yf\n",
    "import math "
   ]
  },
  {
   "cell_type": "markdown",
   "id": "0fdf6955",
   "metadata": {},
   "source": [
    "# Upload weekly prices, set index=date, drop nans"
   ]
  },
  {
   "cell_type": "code",
   "execution_count": 3,
   "id": "623680a2",
   "metadata": {
    "ExecuteTime": {
     "end_time": "2022-06-10T12:56:07.228091Z",
     "start_time": "2022-06-10T12:55:50.123494Z"
    }
   },
   "outputs": [
    {
     "name": "stdout",
     "output_type": "stream",
     "text": [
      "[*********************100%***********************]  1 of 1 completed\n"
     ]
    }
   ],
   "source": [
    "spy_df=yf.download('SPY', interval='1d')"
   ]
  },
  {
   "cell_type": "code",
   "execution_count": 4,
   "id": "c8dc4819",
   "metadata": {
    "ExecuteTime": {
     "end_time": "2022-06-10T12:56:09.692219Z",
     "start_time": "2022-06-10T12:56:09.677218Z"
    }
   },
   "outputs": [
    {
     "data": {
      "text/html": [
       "<div>\n",
       "<style scoped>\n",
       "    .dataframe tbody tr th:only-of-type {\n",
       "        vertical-align: middle;\n",
       "    }\n",
       "\n",
       "    .dataframe tbody tr th {\n",
       "        vertical-align: top;\n",
       "    }\n",
       "\n",
       "    .dataframe thead th {\n",
       "        text-align: right;\n",
       "    }\n",
       "</style>\n",
       "<table border=\"1\" class=\"dataframe\">\n",
       "  <thead>\n",
       "    <tr style=\"text-align: right;\">\n",
       "      <th></th>\n",
       "      <th>Open</th>\n",
       "      <th>High</th>\n",
       "      <th>Low</th>\n",
       "      <th>Close</th>\n",
       "      <th>Adj Close</th>\n",
       "      <th>Volume</th>\n",
       "    </tr>\n",
       "    <tr>\n",
       "      <th>Date</th>\n",
       "      <th></th>\n",
       "      <th></th>\n",
       "      <th></th>\n",
       "      <th></th>\n",
       "      <th></th>\n",
       "      <th></th>\n",
       "    </tr>\n",
       "  </thead>\n",
       "  <tbody>\n",
       "    <tr>\n",
       "      <th>1993-01-29</th>\n",
       "      <td>43.96875</td>\n",
       "      <td>43.96875</td>\n",
       "      <td>43.75000</td>\n",
       "      <td>43.93750</td>\n",
       "      <td>25.547979</td>\n",
       "      <td>1003200</td>\n",
       "    </tr>\n",
       "    <tr>\n",
       "      <th>1993-02-01</th>\n",
       "      <td>43.96875</td>\n",
       "      <td>44.25000</td>\n",
       "      <td>43.96875</td>\n",
       "      <td>44.25000</td>\n",
       "      <td>25.729692</td>\n",
       "      <td>480500</td>\n",
       "    </tr>\n",
       "    <tr>\n",
       "      <th>1993-02-02</th>\n",
       "      <td>44.21875</td>\n",
       "      <td>44.37500</td>\n",
       "      <td>44.12500</td>\n",
       "      <td>44.34375</td>\n",
       "      <td>25.784204</td>\n",
       "      <td>201300</td>\n",
       "    </tr>\n",
       "    <tr>\n",
       "      <th>1993-02-03</th>\n",
       "      <td>44.40625</td>\n",
       "      <td>44.84375</td>\n",
       "      <td>44.37500</td>\n",
       "      <td>44.81250</td>\n",
       "      <td>26.056757</td>\n",
       "      <td>529400</td>\n",
       "    </tr>\n",
       "    <tr>\n",
       "      <th>1993-02-04</th>\n",
       "      <td>44.96875</td>\n",
       "      <td>45.09375</td>\n",
       "      <td>44.46875</td>\n",
       "      <td>45.00000</td>\n",
       "      <td>26.165798</td>\n",
       "      <td>531500</td>\n",
       "    </tr>\n",
       "  </tbody>\n",
       "</table>\n",
       "</div>"
      ],
      "text/plain": [
       "                Open      High       Low     Close  Adj Close   Volume\n",
       "Date                                                                  \n",
       "1993-01-29  43.96875  43.96875  43.75000  43.93750  25.547979  1003200\n",
       "1993-02-01  43.96875  44.25000  43.96875  44.25000  25.729692   480500\n",
       "1993-02-02  44.21875  44.37500  44.12500  44.34375  25.784204   201300\n",
       "1993-02-03  44.40625  44.84375  44.37500  44.81250  26.056757   529400\n",
       "1993-02-04  44.96875  45.09375  44.46875  45.00000  26.165798   531500"
      ]
     },
     "execution_count": 4,
     "metadata": {},
     "output_type": "execute_result"
    }
   ],
   "source": [
    "spy_df.head()"
   ]
  },
  {
   "cell_type": "code",
   "execution_count": null,
   "id": "04dc8f54",
   "metadata": {},
   "outputs": [],
   "source": [
    "yf.download('SPY')"
   ]
  },
  {
   "cell_type": "code",
   "execution_count": 5,
   "id": "c0f286d1",
   "metadata": {
    "ExecuteTime": {
     "end_time": "2022-06-10T13:03:49.869540Z",
     "start_time": "2022-06-10T13:03:49.862564Z"
    }
   },
   "outputs": [],
   "source": [
    "def download_ticker(ticker='SPY', returned_cols=['Adj Close'], interval='1d'):\n",
    "    \"\"\"params: \n",
    "    ticker: default is SPY\n",
    "    returned_cols: (list) default is Adj Close\n",
    "    interval: one of 1m,2m,5m,15m,30m,60m,90m,1h,1d,5d,1wk,1mo,3mo, default is 1d\n",
    "    returns: df with ticker data index is timeseries\"\"\"\n",
    "    return yf.download(ticker, interval=interval)[returned_cols]"
   ]
  },
  {
   "cell_type": "code",
   "execution_count": 7,
   "id": "bffb9208",
   "metadata": {
    "ExecuteTime": {
     "end_time": "2022-06-10T13:13:41.797972Z",
     "start_time": "2022-06-10T13:13:25.374266Z"
    }
   },
   "outputs": [
    {
     "name": "stdout",
     "output_type": "stream",
     "text": [
      "[*********************100%***********************]  1 of 1 completed\n"
     ]
    }
   ],
   "source": [
    "spy=download_ticker()"
   ]
  },
  {
   "cell_type": "code",
   "execution_count": 12,
   "id": "24dbd10b",
   "metadata": {
    "ExecuteTime": {
     "end_time": "2022-06-10T13:14:48.730967Z",
     "start_time": "2022-06-10T13:14:48.715968Z"
    }
   },
   "outputs": [
    {
     "data": {
      "text/plain": [
       "0"
      ]
     },
     "execution_count": 12,
     "metadata": {},
     "output_type": "execute_result"
    }
   ],
   "source": [
    "sum(spy.isna().sum())"
   ]
  },
  {
   "cell_type": "code",
   "execution_count": 13,
   "id": "e67f01f6",
   "metadata": {
    "ExecuteTime": {
     "end_time": "2022-06-10T13:15:07.839764Z",
     "start_time": "2022-06-10T13:15:07.836764Z"
    }
   },
   "outputs": [],
   "source": [
    "def check_nulls(df):\n",
    "    \"\"\"params: \n",
    "    df: df for which we want to check nulls\n",
    "    returns: sum of Nans\"\"\"\n",
    "    return sum(df.isna().sum())"
   ]
  },
  {
   "cell_type": "code",
   "execution_count": 14,
   "id": "81017ea0",
   "metadata": {
    "ExecuteTime": {
     "end_time": "2022-06-10T13:32:39.765536Z",
     "start_time": "2022-06-10T13:32:39.747541Z"
    }
   },
   "outputs": [
    {
     "data": {
      "text/plain": [
       "0"
      ]
     },
     "execution_count": 14,
     "metadata": {},
     "output_type": "execute_result"
    }
   ],
   "source": [
    "check_nulls(spy)"
   ]
  },
  {
   "cell_type": "code",
   "execution_count": 38,
   "id": "c3b2183a",
   "metadata": {
    "ExecuteTime": {
     "end_time": "2022-06-10T13:53:29.874056Z",
     "start_time": "2022-06-10T13:53:29.865053Z"
    }
   },
   "outputs": [
    {
     "data": {
      "text/plain": [
       "5916"
      ]
     },
     "execution_count": 38,
     "metadata": {},
     "output_type": "execute_result"
    }
   ],
   "source": [
    "math.floor(spy.shape[0]*.8)"
   ]
  },
  {
   "cell_type": "code",
   "execution_count": 35,
   "id": "614ae59c",
   "metadata": {
    "ExecuteTime": {
     "end_time": "2022-06-10T13:52:33.646488Z",
     "start_time": "2022-06-10T13:52:33.627489Z"
    }
   },
   "outputs": [
    {
     "data": {
      "text/html": [
       "<div>\n",
       "<style scoped>\n",
       "    .dataframe tbody tr th:only-of-type {\n",
       "        vertical-align: middle;\n",
       "    }\n",
       "\n",
       "    .dataframe tbody tr th {\n",
       "        vertical-align: top;\n",
       "    }\n",
       "\n",
       "    .dataframe thead th {\n",
       "        text-align: right;\n",
       "    }\n",
       "</style>\n",
       "<table border=\"1\" class=\"dataframe\">\n",
       "  <thead>\n",
       "    <tr style=\"text-align: right;\">\n",
       "      <th></th>\n",
       "      <th>Adj Close</th>\n",
       "    </tr>\n",
       "    <tr>\n",
       "      <th>Date</th>\n",
       "      <th></th>\n",
       "    </tr>\n",
       "  </thead>\n",
       "  <tbody>\n",
       "    <tr>\n",
       "      <th>2016-07-27</th>\n",
       "      <td>195.408310</td>\n",
       "    </tr>\n",
       "    <tr>\n",
       "      <th>2016-07-28</th>\n",
       "      <td>195.633942</td>\n",
       "    </tr>\n",
       "    <tr>\n",
       "      <th>2016-07-29</th>\n",
       "      <td>195.949814</td>\n",
       "    </tr>\n",
       "    <tr>\n",
       "      <th>2016-08-01</th>\n",
       "      <td>195.787399</td>\n",
       "    </tr>\n",
       "    <tr>\n",
       "      <th>2016-08-02</th>\n",
       "      <td>194.532867</td>\n",
       "    </tr>\n",
       "    <tr>\n",
       "      <th>...</th>\n",
       "      <td>...</td>\n",
       "    </tr>\n",
       "    <tr>\n",
       "      <th>2022-06-03</th>\n",
       "      <td>410.540009</td>\n",
       "    </tr>\n",
       "    <tr>\n",
       "      <th>2022-06-06</th>\n",
       "      <td>411.790009</td>\n",
       "    </tr>\n",
       "    <tr>\n",
       "      <th>2022-06-07</th>\n",
       "      <td>415.739990</td>\n",
       "    </tr>\n",
       "    <tr>\n",
       "      <th>2022-06-08</th>\n",
       "      <td>411.220001</td>\n",
       "    </tr>\n",
       "    <tr>\n",
       "      <th>2022-06-09</th>\n",
       "      <td>401.440002</td>\n",
       "    </tr>\n",
       "  </tbody>\n",
       "</table>\n",
       "<p>1479 rows × 1 columns</p>\n",
       "</div>"
      ],
      "text/plain": [
       "             Adj Close\n",
       "Date                  \n",
       "2016-07-27  195.408310\n",
       "2016-07-28  195.633942\n",
       "2016-07-29  195.949814\n",
       "2016-08-01  195.787399\n",
       "2016-08-02  194.532867\n",
       "...                ...\n",
       "2022-06-03  410.540009\n",
       "2022-06-06  411.790009\n",
       "2022-06-07  415.739990\n",
       "2022-06-08  411.220001\n",
       "2022-06-09  401.440002\n",
       "\n",
       "[1479 rows x 1 columns]"
      ]
     },
     "execution_count": 35,
     "metadata": {},
     "output_type": "execute_result"
    }
   ],
   "source": [
    "spy.iloc[5916:]"
   ]
  },
  {
   "cell_type": "code",
   "execution_count": null,
   "id": "860a6e71",
   "metadata": {},
   "outputs": [],
   "source": [
    "np.floor(len())"
   ]
  },
  {
   "cell_type": "code",
   "execution_count": null,
   "id": "e48631e5",
   "metadata": {},
   "outputs": [],
   "source": []
  },
  {
   "cell_type": "code",
   "execution_count": 83,
   "id": "9f2168f6",
   "metadata": {
    "ExecuteTime": {
     "end_time": "2022-06-10T15:15:48.056081Z",
     "start_time": "2022-06-10T15:15:48.042083Z"
    }
   },
   "outputs": [
    {
     "data": {
      "text/html": [
       "<div>\n",
       "<style scoped>\n",
       "    .dataframe tbody tr th:only-of-type {\n",
       "        vertical-align: middle;\n",
       "    }\n",
       "\n",
       "    .dataframe tbody tr th {\n",
       "        vertical-align: top;\n",
       "    }\n",
       "\n",
       "    .dataframe thead th {\n",
       "        text-align: right;\n",
       "    }\n",
       "</style>\n",
       "<table border=\"1\" class=\"dataframe\">\n",
       "  <thead>\n",
       "    <tr style=\"text-align: right;\">\n",
       "      <th></th>\n",
       "      <th>Prediction</th>\n",
       "    </tr>\n",
       "    <tr>\n",
       "      <th>Date</th>\n",
       "      <th></th>\n",
       "    </tr>\n",
       "  </thead>\n",
       "  <tbody>\n",
       "    <tr>\n",
       "      <th>2016-07-27</th>\n",
       "      <td>195.408310</td>\n",
       "    </tr>\n",
       "    <tr>\n",
       "      <th>2016-07-28</th>\n",
       "      <td>195.633942</td>\n",
       "    </tr>\n",
       "    <tr>\n",
       "      <th>2016-07-29</th>\n",
       "      <td>195.949814</td>\n",
       "    </tr>\n",
       "    <tr>\n",
       "      <th>2016-08-01</th>\n",
       "      <td>195.787399</td>\n",
       "    </tr>\n",
       "    <tr>\n",
       "      <th>2016-08-02</th>\n",
       "      <td>194.532867</td>\n",
       "    </tr>\n",
       "    <tr>\n",
       "      <th>...</th>\n",
       "      <td>...</td>\n",
       "    </tr>\n",
       "    <tr>\n",
       "      <th>2022-06-03</th>\n",
       "      <td>410.540009</td>\n",
       "    </tr>\n",
       "    <tr>\n",
       "      <th>2022-06-06</th>\n",
       "      <td>411.790009</td>\n",
       "    </tr>\n",
       "    <tr>\n",
       "      <th>2022-06-07</th>\n",
       "      <td>415.739990</td>\n",
       "    </tr>\n",
       "    <tr>\n",
       "      <th>2022-06-08</th>\n",
       "      <td>411.220001</td>\n",
       "    </tr>\n",
       "    <tr>\n",
       "      <th>2022-06-09</th>\n",
       "      <td>401.440002</td>\n",
       "    </tr>\n",
       "  </tbody>\n",
       "</table>\n",
       "<p>1479 rows × 1 columns</p>\n",
       "</div>"
      ],
      "text/plain": [
       "            Prediction\n",
       "Date                  \n",
       "2016-07-27  195.408310\n",
       "2016-07-28  195.633942\n",
       "2016-07-29  195.949814\n",
       "2016-08-01  195.787399\n",
       "2016-08-02  194.532867\n",
       "...                ...\n",
       "2022-06-03  410.540009\n",
       "2022-06-06  411.790009\n",
       "2022-06-07  415.739990\n",
       "2022-06-08  411.220001\n",
       "2022-06-09  401.440002\n",
       "\n",
       "[1479 rows x 1 columns]"
      ]
     },
     "execution_count": 83,
     "metadata": {},
     "output_type": "execute_result"
    }
   ],
   "source": [
    "spy_test.rename(columns={'Adj Close':'Prediction'})"
   ]
  },
  {
   "cell_type": "code",
   "execution_count": 90,
   "id": "c00be743",
   "metadata": {
    "ExecuteTime": {
     "end_time": "2022-06-10T15:18:01.809179Z",
     "start_time": "2022-06-10T15:18:01.795155Z"
    }
   },
   "outputs": [],
   "source": [
    "def timesplit_train_test(df,train_size=.8):\n",
    "    \"\"\"Splits dataframe into train and test according to train_size\"\"\"\n",
    "    ind_split=math.floor(len(df)*train_size)\n",
    "    train=df.iloc[:ind_split]\n",
    "    test=df.iloc[ind_split:]\n",
    "    return train,test"
   ]
  },
  {
   "cell_type": "code",
   "execution_count": 91,
   "id": "35db90c5",
   "metadata": {
    "ExecuteTime": {
     "end_time": "2022-06-10T15:18:01.995623Z",
     "start_time": "2022-06-10T15:18:01.980560Z"
    }
   },
   "outputs": [],
   "source": [
    "spy_train,spy_test=timesplit_train_test(spy)"
   ]
  },
  {
   "cell_type": "code",
   "execution_count": 120,
   "id": "2f9ba69d",
   "metadata": {
    "ExecuteTime": {
     "end_time": "2022-06-10T15:35:34.710313Z",
     "start_time": "2022-06-10T15:35:34.701317Z"
    }
   },
   "outputs": [],
   "source": [
    "def t_is_t_m1_preds(df):\n",
    "    \"\"\"Returns predictions for price on all test set such as t=t-1\n",
    "    params:df\n",
    "    return: df: -date: pred_price for date \n",
    "                     : Boolean invest recommandation\n",
    "                     : actual price at the end of the day\"\"\"\n",
    "    df1=df.copy()\n",
    "    df1['prediction']=df1['Adj Close'].shift(1)\n",
    "    df1['recommandation']=0\n",
    "    return df1"
   ]
  },
  {
   "cell_type": "code",
   "execution_count": 156,
   "id": "1154a5bd",
   "metadata": {
    "ExecuteTime": {
     "end_time": "2022-06-12T10:33:45.967250Z",
     "start_time": "2022-06-12T10:33:45.962249Z"
    }
   },
   "outputs": [],
   "source": [
    "basic_pred=t_is_t_m1_preds(spy_test)"
   ]
  },
  {
   "cell_type": "code",
   "execution_count": 157,
   "id": "0d45ea16",
   "metadata": {
    "ExecuteTime": {
     "end_time": "2022-06-12T10:33:46.311586Z",
     "start_time": "2022-06-12T10:33:46.297589Z"
    }
   },
   "outputs": [],
   "source": [
    "basic_pred['portfolio_value']=None"
   ]
  },
  {
   "cell_type": "code",
   "execution_count": 158,
   "id": "7945b7f5",
   "metadata": {
    "ExecuteTime": {
     "end_time": "2022-06-12T10:33:46.641588Z",
     "start_time": "2022-06-12T10:33:46.632672Z"
    }
   },
   "outputs": [],
   "source": [
    "basic_pred.iloc[0,-1]=100000"
   ]
  },
  {
   "cell_type": "code",
   "execution_count": 159,
   "id": "f9032eee",
   "metadata": {
    "ExecuteTime": {
     "end_time": "2022-06-12T10:33:47.066890Z",
     "start_time": "2022-06-12T10:33:47.041898Z"
    }
   },
   "outputs": [
    {
     "data": {
      "text/html": [
       "<div>\n",
       "<style scoped>\n",
       "    .dataframe tbody tr th:only-of-type {\n",
       "        vertical-align: middle;\n",
       "    }\n",
       "\n",
       "    .dataframe tbody tr th {\n",
       "        vertical-align: top;\n",
       "    }\n",
       "\n",
       "    .dataframe thead th {\n",
       "        text-align: right;\n",
       "    }\n",
       "</style>\n",
       "<table border=\"1\" class=\"dataframe\">\n",
       "  <thead>\n",
       "    <tr style=\"text-align: right;\">\n",
       "      <th></th>\n",
       "      <th>Adj Close</th>\n",
       "      <th>prediction</th>\n",
       "      <th>recommandation</th>\n",
       "      <th>portfolio_value</th>\n",
       "    </tr>\n",
       "    <tr>\n",
       "      <th>Date</th>\n",
       "      <th></th>\n",
       "      <th></th>\n",
       "      <th></th>\n",
       "      <th></th>\n",
       "    </tr>\n",
       "  </thead>\n",
       "  <tbody>\n",
       "    <tr>\n",
       "      <th>2016-07-27</th>\n",
       "      <td>195.408310</td>\n",
       "      <td>NaN</td>\n",
       "      <td>0</td>\n",
       "      <td>100000</td>\n",
       "    </tr>\n",
       "    <tr>\n",
       "      <th>2016-07-28</th>\n",
       "      <td>195.633942</td>\n",
       "      <td>195.408310</td>\n",
       "      <td>0</td>\n",
       "      <td>None</td>\n",
       "    </tr>\n",
       "    <tr>\n",
       "      <th>2016-07-29</th>\n",
       "      <td>195.949814</td>\n",
       "      <td>195.633942</td>\n",
       "      <td>0</td>\n",
       "      <td>None</td>\n",
       "    </tr>\n",
       "    <tr>\n",
       "      <th>2016-08-01</th>\n",
       "      <td>195.787399</td>\n",
       "      <td>195.949814</td>\n",
       "      <td>0</td>\n",
       "      <td>None</td>\n",
       "    </tr>\n",
       "    <tr>\n",
       "      <th>2016-08-02</th>\n",
       "      <td>194.532867</td>\n",
       "      <td>195.787399</td>\n",
       "      <td>0</td>\n",
       "      <td>None</td>\n",
       "    </tr>\n",
       "    <tr>\n",
       "      <th>...</th>\n",
       "      <td>...</td>\n",
       "      <td>...</td>\n",
       "      <td>...</td>\n",
       "      <td>...</td>\n",
       "    </tr>\n",
       "    <tr>\n",
       "      <th>2022-06-03</th>\n",
       "      <td>410.540009</td>\n",
       "      <td>417.390015</td>\n",
       "      <td>0</td>\n",
       "      <td>None</td>\n",
       "    </tr>\n",
       "    <tr>\n",
       "      <th>2022-06-06</th>\n",
       "      <td>411.790009</td>\n",
       "      <td>410.540009</td>\n",
       "      <td>0</td>\n",
       "      <td>None</td>\n",
       "    </tr>\n",
       "    <tr>\n",
       "      <th>2022-06-07</th>\n",
       "      <td>415.739990</td>\n",
       "      <td>411.790009</td>\n",
       "      <td>0</td>\n",
       "      <td>None</td>\n",
       "    </tr>\n",
       "    <tr>\n",
       "      <th>2022-06-08</th>\n",
       "      <td>411.220001</td>\n",
       "      <td>415.739990</td>\n",
       "      <td>0</td>\n",
       "      <td>None</td>\n",
       "    </tr>\n",
       "    <tr>\n",
       "      <th>2022-06-09</th>\n",
       "      <td>401.440002</td>\n",
       "      <td>411.220001</td>\n",
       "      <td>0</td>\n",
       "      <td>None</td>\n",
       "    </tr>\n",
       "  </tbody>\n",
       "</table>\n",
       "<p>1479 rows × 4 columns</p>\n",
       "</div>"
      ],
      "text/plain": [
       "             Adj Close  prediction  recommandation portfolio_value\n",
       "Date                                                              \n",
       "2016-07-27  195.408310         NaN               0          100000\n",
       "2016-07-28  195.633942  195.408310               0            None\n",
       "2016-07-29  195.949814  195.633942               0            None\n",
       "2016-08-01  195.787399  195.949814               0            None\n",
       "2016-08-02  194.532867  195.787399               0            None\n",
       "...                ...         ...             ...             ...\n",
       "2022-06-03  410.540009  417.390015               0            None\n",
       "2022-06-06  411.790009  410.540009               0            None\n",
       "2022-06-07  415.739990  411.790009               0            None\n",
       "2022-06-08  411.220001  415.739990               0            None\n",
       "2022-06-09  401.440002  411.220001               0            None\n",
       "\n",
       "[1479 rows x 4 columns]"
      ]
     },
     "execution_count": 159,
     "metadata": {},
     "output_type": "execute_result"
    }
   ],
   "source": [
    "basic_pred"
   ]
  },
  {
   "cell_type": "code",
   "execution_count": 161,
   "id": "cc85e954",
   "metadata": {
    "ExecuteTime": {
     "end_time": "2022-06-12T10:35:14.271275Z",
     "start_time": "2022-06-12T10:35:14.255274Z"
    }
   },
   "outputs": [],
   "source": [
    "a=basic_pred['portfolio_value']"
   ]
  },
  {
   "cell_type": "code",
   "execution_count": 140,
   "id": "94a4066d",
   "metadata": {
    "ExecuteTime": {
     "end_time": "2022-06-10T15:44:09.209161Z",
     "start_time": "2022-06-10T15:44:09.190163Z"
    }
   },
   "outputs": [],
   "source": [
    "a+=basic_pred['portfolio_value'].shift(1)+(basic_pred['Adj Close']/basic_pred['Adj Close'].shift(1))*basic_pred['recommandation']*basic_pred['portfolio_value'].shift(1)"
   ]
  },
  {
   "cell_type": "code",
   "execution_count": 160,
   "id": "f85010cf",
   "metadata": {
    "ExecuteTime": {
     "end_time": "2022-06-12T10:35:11.165278Z",
     "start_time": "2022-06-12T10:35:11.148274Z"
    }
   },
   "outputs": [
    {
     "data": {
      "text/plain": [
       "Date\n",
       "2016-07-27         NaN\n",
       "2016-07-28    200000.0\n",
       "2016-07-29    200000.0\n",
       "2016-08-01    200000.0\n",
       "2016-08-02    200000.0\n",
       "                ...   \n",
       "2022-06-03    200000.0\n",
       "2022-06-06    200000.0\n",
       "2022-06-07    200000.0\n",
       "2022-06-08    200000.0\n",
       "2022-06-09    200000.0\n",
       "Name: portfolio_value, Length: 1479, dtype: float64"
      ]
     },
     "execution_count": 160,
     "metadata": {},
     "output_type": "execute_result"
    }
   ],
   "source": []
  },
  {
   "cell_type": "code",
   "execution_count": null,
   "id": "36883e87",
   "metadata": {},
   "outputs": [],
   "source": []
  },
  {
   "cell_type": "code",
   "execution_count": 155,
   "id": "9f52e657",
   "metadata": {
    "ExecuteTime": {
     "end_time": "2022-06-12T10:33:41.301249Z",
     "start_time": "2022-06-12T10:33:41.286250Z"
    }
   },
   "outputs": [
    {
     "data": {
      "text/html": [
       "<div>\n",
       "<style scoped>\n",
       "    .dataframe tbody tr th:only-of-type {\n",
       "        vertical-align: middle;\n",
       "    }\n",
       "\n",
       "    .dataframe tbody tr th {\n",
       "        vertical-align: top;\n",
       "    }\n",
       "\n",
       "    .dataframe thead th {\n",
       "        text-align: right;\n",
       "    }\n",
       "</style>\n",
       "<table border=\"1\" class=\"dataframe\">\n",
       "  <thead>\n",
       "    <tr style=\"text-align: right;\">\n",
       "      <th></th>\n",
       "      <th>Adj Close</th>\n",
       "      <th>prediction</th>\n",
       "      <th>recommandation</th>\n",
       "      <th>portfolio_value</th>\n",
       "    </tr>\n",
       "    <tr>\n",
       "      <th>Date</th>\n",
       "      <th></th>\n",
       "      <th></th>\n",
       "      <th></th>\n",
       "      <th></th>\n",
       "    </tr>\n",
       "  </thead>\n",
       "  <tbody>\n",
       "    <tr>\n",
       "      <th>2016-07-27</th>\n",
       "      <td>195.408310</td>\n",
       "      <td>NaN</td>\n",
       "      <td>0</td>\n",
       "      <td>100000</td>\n",
       "    </tr>\n",
       "    <tr>\n",
       "      <th>2016-07-28</th>\n",
       "      <td>195.633942</td>\n",
       "      <td>195.408310</td>\n",
       "      <td>0</td>\n",
       "      <td>None</td>\n",
       "    </tr>\n",
       "    <tr>\n",
       "      <th>2016-07-29</th>\n",
       "      <td>195.949814</td>\n",
       "      <td>195.633942</td>\n",
       "      <td>0</td>\n",
       "      <td>None</td>\n",
       "    </tr>\n",
       "    <tr>\n",
       "      <th>2016-08-01</th>\n",
       "      <td>195.787399</td>\n",
       "      <td>195.949814</td>\n",
       "      <td>0</td>\n",
       "      <td>None</td>\n",
       "    </tr>\n",
       "    <tr>\n",
       "      <th>2016-08-02</th>\n",
       "      <td>194.532867</td>\n",
       "      <td>195.787399</td>\n",
       "      <td>0</td>\n",
       "      <td>None</td>\n",
       "    </tr>\n",
       "    <tr>\n",
       "      <th>...</th>\n",
       "      <td>...</td>\n",
       "      <td>...</td>\n",
       "      <td>...</td>\n",
       "      <td>...</td>\n",
       "    </tr>\n",
       "    <tr>\n",
       "      <th>2022-06-03</th>\n",
       "      <td>410.540009</td>\n",
       "      <td>417.390015</td>\n",
       "      <td>0</td>\n",
       "      <td>None</td>\n",
       "    </tr>\n",
       "    <tr>\n",
       "      <th>2022-06-06</th>\n",
       "      <td>411.790009</td>\n",
       "      <td>410.540009</td>\n",
       "      <td>0</td>\n",
       "      <td>None</td>\n",
       "    </tr>\n",
       "    <tr>\n",
       "      <th>2022-06-07</th>\n",
       "      <td>415.739990</td>\n",
       "      <td>411.790009</td>\n",
       "      <td>0</td>\n",
       "      <td>None</td>\n",
       "    </tr>\n",
       "    <tr>\n",
       "      <th>2022-06-08</th>\n",
       "      <td>411.220001</td>\n",
       "      <td>415.739990</td>\n",
       "      <td>0</td>\n",
       "      <td>None</td>\n",
       "    </tr>\n",
       "    <tr>\n",
       "      <th>2022-06-09</th>\n",
       "      <td>401.440002</td>\n",
       "      <td>411.220001</td>\n",
       "      <td>0</td>\n",
       "      <td>None</td>\n",
       "    </tr>\n",
       "  </tbody>\n",
       "</table>\n",
       "<p>1479 rows × 4 columns</p>\n",
       "</div>"
      ],
      "text/plain": [
       "             Adj Close  prediction  recommandation portfolio_value\n",
       "Date                                                              \n",
       "2016-07-27  195.408310         NaN               0          100000\n",
       "2016-07-28  195.633942  195.408310               0            None\n",
       "2016-07-29  195.949814  195.633942               0            None\n",
       "2016-08-01  195.787399  195.949814               0            None\n",
       "2016-08-02  194.532867  195.787399               0            None\n",
       "...                ...         ...             ...             ...\n",
       "2022-06-03  410.540009  417.390015               0            None\n",
       "2022-06-06  411.790009  410.540009               0            None\n",
       "2022-06-07  415.739990  411.790009               0            None\n",
       "2022-06-08  411.220001  415.739990               0            None\n",
       "2022-06-09  401.440002  411.220001               0            None\n",
       "\n",
       "[1479 rows x 4 columns]"
      ]
     },
     "execution_count": 155,
     "metadata": {},
     "output_type": "execute_result"
    }
   ],
   "source": [
    "basic_pred"
   ]
  },
  {
   "cell_type": "code",
   "execution_count": 108,
   "id": "8a1d0669",
   "metadata": {
    "ExecuteTime": {
     "end_time": "2022-06-10T15:27:33.448621Z",
     "start_time": "2022-06-10T15:27:33.421359Z"
    }
   },
   "outputs": [
    {
     "name": "stdout",
     "output_type": "stream",
     "text": [
      "Variable               Type         Data/Info\n",
      "---------------------------------------------\n",
      "a                      DataFrame                Adj Close\\nDa<...>\\n[1479 rows x 1 columns]\n",
      "basic_pred             DataFrame                 Adj Close  p<...>\\n[1479 rows x 3 columns]\n",
      "check_nulls            function     <function check_nulls at 0x00000289AD6C6550>\n",
      "download_ticker        function     <function download_ticker at 0x00000289AD7A65E0>\n",
      "dt                     module       <module 'datetime' from '<...>onda3\\\\lib\\\\datetime.py'>\n",
      "json                   module       <module 'json' from 'C:\\\\<...>\\lib\\\\json\\\\__init__.py'>\n",
      "math                   module       <module 'math' (built-in)>\n",
      "np                     module       <module 'numpy' from 'C:\\<...>ges\\\\numpy\\\\__init__.py'>\n",
      "pd                     module       <module 'pandas' from 'C:<...>es\\\\pandas\\\\__init__.py'>\n",
      "split_train_test       function     <function split_train_test at 0x00000289AE08F5E0>\n",
      "spy                    DataFrame                 Adj Close\\nD<...>\\n[7395 rows x 1 columns]\n",
      "spy_df                 DataFrame                      Open   <...>\\n[7395 rows x 6 columns]\n",
      "spy_test               DataFrame                 Adj Close\\nD<...>\\n[1479 rows x 1 columns]\n",
      "spy_train              DataFrame                 Adj Close\\nD<...>\\n[5916 rows x 1 columns]\n",
      "t_is_t_m1_preds        function     <function t_is_t_m1_preds at 0x00000289B39D0B80>\n",
      "timesplit_train_test   function     <function timesplit_train<...>st at 0x00000289ADBCD1F0>\n",
      "wb                     module       <module 'pandas_datareade<...>datareader\\\\__init__.py'>\n",
      "yapf_reformat          function     <function yapf_reformat at 0x000002899B7CDAF0>\n",
      "yf                     module       <module 'yfinance' from '<...>\\\\yfinance\\\\__init__.py'>\n"
     ]
    }
   ],
   "source": [
    "whos"
   ]
  },
  {
   "cell_type": "code",
   "execution_count": null,
   "id": "043ef20c",
   "metadata": {},
   "outputs": [],
   "source": []
  },
  {
   "cell_type": "code",
   "execution_count": null,
   "id": "bdec120d",
   "metadata": {},
   "outputs": [],
   "source": []
  },
  {
   "cell_type": "code",
   "execution_count": null,
   "id": "455dc00d",
   "metadata": {},
   "outputs": [],
   "source": []
  },
  {
   "cell_type": "code",
   "execution_count": 2,
   "id": "ea315c58",
   "metadata": {
    "ExecuteTime": {
     "end_time": "2022-06-07T12:22:58.423203Z",
     "start_time": "2022-06-07T12:22:58.383183Z"
    }
   },
   "outputs": [],
   "source": [
    "week_prices=pd.read_csv('weekly_sectors_prices.csv')\n",
    "week_volumes=pd.read_csv('weekly_sectors_volume.csv')"
   ]
  },
  {
   "cell_type": "code",
   "execution_count": 3,
   "id": "9a8cf289",
   "metadata": {
    "ExecuteTime": {
     "end_time": "2022-06-07T12:22:58.812921Z",
     "start_time": "2022-06-07T12:22:58.796921Z"
    }
   },
   "outputs": [],
   "source": [
    "week_prices['Date'] = pd.to_datetime(week_prices.Date)\n",
    "week_prices.set_index('Date',inplace=True)"
   ]
  },
  {
   "cell_type": "code",
   "execution_count": 4,
   "id": "8fe9b752",
   "metadata": {
    "ExecuteTime": {
     "end_time": "2022-06-07T12:22:59.139112Z",
     "start_time": "2022-06-07T12:22:59.132117Z"
    }
   },
   "outputs": [],
   "source": [
    "week_prices.dropna(inplace=True)"
   ]
  },
  {
   "cell_type": "code",
   "execution_count": 5,
   "id": "451f927e",
   "metadata": {
    "ExecuteTime": {
     "end_time": "2022-06-07T12:22:59.435350Z",
     "start_time": "2022-06-07T12:22:59.391361Z"
    }
   },
   "outputs": [
    {
     "data": {
      "text/html": [
       "<div>\n",
       "<style scoped>\n",
       "    .dataframe tbody tr th:only-of-type {\n",
       "        vertical-align: middle;\n",
       "    }\n",
       "\n",
       "    .dataframe tbody tr th {\n",
       "        vertical-align: top;\n",
       "    }\n",
       "\n",
       "    .dataframe thead th {\n",
       "        text-align: right;\n",
       "    }\n",
       "</style>\n",
       "<table border=\"1\" class=\"dataframe\">\n",
       "  <thead>\n",
       "    <tr style=\"text-align: right;\">\n",
       "      <th></th>\n",
       "      <th>IYZ</th>\n",
       "      <th>XLB</th>\n",
       "      <th>XLE</th>\n",
       "      <th>XLF</th>\n",
       "      <th>XLI</th>\n",
       "      <th>XLK</th>\n",
       "      <th>XLP</th>\n",
       "      <th>XLRE</th>\n",
       "      <th>XLU</th>\n",
       "      <th>XLV</th>\n",
       "      <th>XLY</th>\n",
       "    </tr>\n",
       "    <tr>\n",
       "      <th>Date</th>\n",
       "      <th></th>\n",
       "      <th></th>\n",
       "      <th></th>\n",
       "      <th></th>\n",
       "      <th></th>\n",
       "      <th></th>\n",
       "      <th></th>\n",
       "      <th></th>\n",
       "      <th></th>\n",
       "      <th></th>\n",
       "      <th></th>\n",
       "    </tr>\n",
       "  </thead>\n",
       "  <tbody>\n",
       "    <tr>\n",
       "      <th>2015-10-05</th>\n",
       "      <td>24.132202</td>\n",
       "      <td>38.924061</td>\n",
       "      <td>52.529449</td>\n",
       "      <td>16.685202</td>\n",
       "      <td>47.334866</td>\n",
       "      <td>38.055096</td>\n",
       "      <td>41.815647</td>\n",
       "      <td>24.272911</td>\n",
       "      <td>35.593048</td>\n",
       "      <td>61.584793</td>\n",
       "      <td>71.919304</td>\n",
       "    </tr>\n",
       "    <tr>\n",
       "      <th>2015-10-12</th>\n",
       "      <td>24.568020</td>\n",
       "      <td>38.871159</td>\n",
       "      <td>52.750397</td>\n",
       "      <td>16.907768</td>\n",
       "      <td>46.598850</td>\n",
       "      <td>38.504635</td>\n",
       "      <td>41.959377</td>\n",
       "      <td>24.660831</td>\n",
       "      <td>36.397732</td>\n",
       "      <td>62.772556</td>\n",
       "      <td>72.446770</td>\n",
       "    </tr>\n",
       "    <tr>\n",
       "      <th>2015-10-19</th>\n",
       "      <td>25.576374</td>\n",
       "      <td>39.691071</td>\n",
       "      <td>52.011292</td>\n",
       "      <td>17.331364</td>\n",
       "      <td>48.469906</td>\n",
       "      <td>40.211067</td>\n",
       "      <td>42.897816</td>\n",
       "      <td>25.005285</td>\n",
       "      <td>36.243305</td>\n",
       "      <td>62.385639</td>\n",
       "      <td>73.686745</td>\n",
       "    </tr>\n",
       "    <tr>\n",
       "      <th>2015-10-26</th>\n",
       "      <td>25.525103</td>\n",
       "      <td>39.920296</td>\n",
       "      <td>51.836056</td>\n",
       "      <td>17.288280</td>\n",
       "      <td>48.124073</td>\n",
       "      <td>40.045929</td>\n",
       "      <td>42.170734</td>\n",
       "      <td>24.908707</td>\n",
       "      <td>35.560539</td>\n",
       "      <td>64.194305</td>\n",
       "      <td>74.926750</td>\n",
       "    </tr>\n",
       "    <tr>\n",
       "      <th>2015-11-02</th>\n",
       "      <td>25.636196</td>\n",
       "      <td>39.964378</td>\n",
       "      <td>53.184727</td>\n",
       "      <td>17.754953</td>\n",
       "      <td>48.647259</td>\n",
       "      <td>40.678944</td>\n",
       "      <td>41.578922</td>\n",
       "      <td>24.103901</td>\n",
       "      <td>34.341324</td>\n",
       "      <td>64.563240</td>\n",
       "      <td>75.343170</td>\n",
       "    </tr>\n",
       "    <tr>\n",
       "      <th>...</th>\n",
       "      <td>...</td>\n",
       "      <td>...</td>\n",
       "      <td>...</td>\n",
       "      <td>...</td>\n",
       "      <td>...</td>\n",
       "      <td>...</td>\n",
       "      <td>...</td>\n",
       "      <td>...</td>\n",
       "      <td>...</td>\n",
       "      <td>...</td>\n",
       "      <td>...</td>\n",
       "    </tr>\n",
       "    <tr>\n",
       "      <th>2021-12-13</th>\n",
       "      <td>32.219090</td>\n",
       "      <td>87.218002</td>\n",
       "      <td>53.674999</td>\n",
       "      <td>38.406002</td>\n",
       "      <td>102.055000</td>\n",
       "      <td>167.563004</td>\n",
       "      <td>74.687996</td>\n",
       "      <td>49.625000</td>\n",
       "      <td>69.463997</td>\n",
       "      <td>137.391998</td>\n",
       "      <td>194.997986</td>\n",
       "    </tr>\n",
       "    <tr>\n",
       "      <th>2021-12-20</th>\n",
       "      <td>32.830002</td>\n",
       "      <td>87.864723</td>\n",
       "      <td>54.198227</td>\n",
       "      <td>38.634903</td>\n",
       "      <td>103.529434</td>\n",
       "      <td>172.613449</td>\n",
       "      <td>74.737656</td>\n",
       "      <td>49.496101</td>\n",
       "      <td>69.176262</td>\n",
       "      <td>138.766724</td>\n",
       "      <td>202.886185</td>\n",
       "    </tr>\n",
       "    <tr>\n",
       "      <th>2021-12-27</th>\n",
       "      <td>32.910000</td>\n",
       "      <td>90.610001</td>\n",
       "      <td>55.500000</td>\n",
       "      <td>39.049999</td>\n",
       "      <td>105.809998</td>\n",
       "      <td>173.869995</td>\n",
       "      <td>77.110001</td>\n",
       "      <td>51.810001</td>\n",
       "      <td>71.580002</td>\n",
       "      <td>140.889999</td>\n",
       "      <td>204.440002</td>\n",
       "    </tr>\n",
       "    <tr>\n",
       "      <th>2022-01-03</th>\n",
       "      <td>32.529999</td>\n",
       "      <td>89.300003</td>\n",
       "      <td>61.340000</td>\n",
       "      <td>41.169998</td>\n",
       "      <td>106.489998</td>\n",
       "      <td>165.929993</td>\n",
       "      <td>77.419998</td>\n",
       "      <td>49.270000</td>\n",
       "      <td>70.410004</td>\n",
       "      <td>134.350006</td>\n",
       "      <td>199.479996</td>\n",
       "    </tr>\n",
       "    <tr>\n",
       "      <th>2022-01-10</th>\n",
       "      <td>32.549999</td>\n",
       "      <td>88.389999</td>\n",
       "      <td>61.150002</td>\n",
       "      <td>41.029999</td>\n",
       "      <td>105.290001</td>\n",
       "      <td>165.960007</td>\n",
       "      <td>76.809998</td>\n",
       "      <td>48.980000</td>\n",
       "      <td>69.949997</td>\n",
       "      <td>135.729996</td>\n",
       "      <td>198.259995</td>\n",
       "    </tr>\n",
       "  </tbody>\n",
       "</table>\n",
       "<p>328 rows × 11 columns</p>\n",
       "</div>"
      ],
      "text/plain": [
       "                  IYZ        XLB        XLE        XLF         XLI  \\\n",
       "Date                                                                 \n",
       "2015-10-05  24.132202  38.924061  52.529449  16.685202   47.334866   \n",
       "2015-10-12  24.568020  38.871159  52.750397  16.907768   46.598850   \n",
       "2015-10-19  25.576374  39.691071  52.011292  17.331364   48.469906   \n",
       "2015-10-26  25.525103  39.920296  51.836056  17.288280   48.124073   \n",
       "2015-11-02  25.636196  39.964378  53.184727  17.754953   48.647259   \n",
       "...               ...        ...        ...        ...         ...   \n",
       "2021-12-13  32.219090  87.218002  53.674999  38.406002  102.055000   \n",
       "2021-12-20  32.830002  87.864723  54.198227  38.634903  103.529434   \n",
       "2021-12-27  32.910000  90.610001  55.500000  39.049999  105.809998   \n",
       "2022-01-03  32.529999  89.300003  61.340000  41.169998  106.489998   \n",
       "2022-01-10  32.549999  88.389999  61.150002  41.029999  105.290001   \n",
       "\n",
       "                   XLK        XLP       XLRE        XLU         XLV  \\\n",
       "Date                                                                  \n",
       "2015-10-05   38.055096  41.815647  24.272911  35.593048   61.584793   \n",
       "2015-10-12   38.504635  41.959377  24.660831  36.397732   62.772556   \n",
       "2015-10-19   40.211067  42.897816  25.005285  36.243305   62.385639   \n",
       "2015-10-26   40.045929  42.170734  24.908707  35.560539   64.194305   \n",
       "2015-11-02   40.678944  41.578922  24.103901  34.341324   64.563240   \n",
       "...                ...        ...        ...        ...         ...   \n",
       "2021-12-13  167.563004  74.687996  49.625000  69.463997  137.391998   \n",
       "2021-12-20  172.613449  74.737656  49.496101  69.176262  138.766724   \n",
       "2021-12-27  173.869995  77.110001  51.810001  71.580002  140.889999   \n",
       "2022-01-03  165.929993  77.419998  49.270000  70.410004  134.350006   \n",
       "2022-01-10  165.960007  76.809998  48.980000  69.949997  135.729996   \n",
       "\n",
       "                   XLY  \n",
       "Date                    \n",
       "2015-10-05   71.919304  \n",
       "2015-10-12   72.446770  \n",
       "2015-10-19   73.686745  \n",
       "2015-10-26   74.926750  \n",
       "2015-11-02   75.343170  \n",
       "...                ...  \n",
       "2021-12-13  194.997986  \n",
       "2021-12-20  202.886185  \n",
       "2021-12-27  204.440002  \n",
       "2022-01-03  199.479996  \n",
       "2022-01-10  198.259995  \n",
       "\n",
       "[328 rows x 11 columns]"
      ]
     },
     "execution_count": 5,
     "metadata": {},
     "output_type": "execute_result"
    }
   ],
   "source": [
    "week_prices"
   ]
  },
  {
   "cell_type": "code",
   "execution_count": 6,
   "id": "e821af12",
   "metadata": {
    "ExecuteTime": {
     "end_time": "2022-06-07T12:22:59.932862Z",
     "start_time": "2022-06-07T12:22:59.912858Z"
    }
   },
   "outputs": [],
   "source": [
    "week_changes=week_prices.pct_change()*100"
   ]
  },
  {
   "cell_type": "code",
   "execution_count": 7,
   "id": "a2be7c0c",
   "metadata": {
    "ExecuteTime": {
     "end_time": "2022-06-07T12:23:00.618307Z",
     "start_time": "2022-06-07T12:23:00.583308Z"
    }
   },
   "outputs": [
    {
     "data": {
      "text/html": [
       "<div>\n",
       "<style scoped>\n",
       "    .dataframe tbody tr th:only-of-type {\n",
       "        vertical-align: middle;\n",
       "    }\n",
       "\n",
       "    .dataframe tbody tr th {\n",
       "        vertical-align: top;\n",
       "    }\n",
       "\n",
       "    .dataframe thead th {\n",
       "        text-align: right;\n",
       "    }\n",
       "</style>\n",
       "<table border=\"1\" class=\"dataframe\">\n",
       "  <thead>\n",
       "    <tr style=\"text-align: right;\">\n",
       "      <th></th>\n",
       "      <th>IYZ</th>\n",
       "      <th>XLB</th>\n",
       "      <th>XLE</th>\n",
       "      <th>XLF</th>\n",
       "      <th>XLI</th>\n",
       "      <th>XLK</th>\n",
       "      <th>XLP</th>\n",
       "      <th>XLRE</th>\n",
       "      <th>XLU</th>\n",
       "      <th>XLV</th>\n",
       "      <th>XLY</th>\n",
       "    </tr>\n",
       "    <tr>\n",
       "      <th>Date</th>\n",
       "      <th></th>\n",
       "      <th></th>\n",
       "      <th></th>\n",
       "      <th></th>\n",
       "      <th></th>\n",
       "      <th></th>\n",
       "      <th></th>\n",
       "      <th></th>\n",
       "      <th></th>\n",
       "      <th></th>\n",
       "      <th></th>\n",
       "    </tr>\n",
       "  </thead>\n",
       "  <tbody>\n",
       "    <tr>\n",
       "      <th>2015-10-05</th>\n",
       "      <td>NaN</td>\n",
       "      <td>NaN</td>\n",
       "      <td>NaN</td>\n",
       "      <td>NaN</td>\n",
       "      <td>NaN</td>\n",
       "      <td>NaN</td>\n",
       "      <td>NaN</td>\n",
       "      <td>NaN</td>\n",
       "      <td>NaN</td>\n",
       "      <td>NaN</td>\n",
       "      <td>NaN</td>\n",
       "    </tr>\n",
       "    <tr>\n",
       "      <th>2015-10-12</th>\n",
       "      <td>1.805959</td>\n",
       "      <td>-0.135911</td>\n",
       "      <td>0.420616</td>\n",
       "      <td>1.333916</td>\n",
       "      <td>-1.554912</td>\n",
       "      <td>1.181285</td>\n",
       "      <td>0.343723</td>\n",
       "      <td>1.598162</td>\n",
       "      <td>2.260789</td>\n",
       "      <td>1.928663</td>\n",
       "      <td>0.733413</td>\n",
       "    </tr>\n",
       "    <tr>\n",
       "      <th>2015-10-19</th>\n",
       "      <td>4.104336</td>\n",
       "      <td>2.109307</td>\n",
       "      <td>-1.401137</td>\n",
       "      <td>2.505330</td>\n",
       "      <td>4.015240</td>\n",
       "      <td>4.431758</td>\n",
       "      <td>2.236540</td>\n",
       "      <td>1.396765</td>\n",
       "      <td>-0.424275</td>\n",
       "      <td>-0.616379</td>\n",
       "      <td>1.711567</td>\n",
       "    </tr>\n",
       "    <tr>\n",
       "      <th>2015-10-26</th>\n",
       "      <td>-0.200464</td>\n",
       "      <td>0.577523</td>\n",
       "      <td>-0.336919</td>\n",
       "      <td>-0.248585</td>\n",
       "      <td>-0.713500</td>\n",
       "      <td>-0.410679</td>\n",
       "      <td>-1.694915</td>\n",
       "      <td>-0.386233</td>\n",
       "      <td>-1.883840</td>\n",
       "      <td>2.899171</td>\n",
       "      <td>1.682807</td>\n",
       "    </tr>\n",
       "    <tr>\n",
       "      <th>2015-11-02</th>\n",
       "      <td>0.435232</td>\n",
       "      <td>0.110427</td>\n",
       "      <td>2.601801</td>\n",
       "      <td>2.699360</td>\n",
       "      <td>1.087160</td>\n",
       "      <td>1.580722</td>\n",
       "      <td>-1.403372</td>\n",
       "      <td>-3.231022</td>\n",
       "      <td>-3.428563</td>\n",
       "      <td>0.574716</td>\n",
       "      <td>0.555769</td>\n",
       "    </tr>\n",
       "    <tr>\n",
       "      <th>...</th>\n",
       "      <td>...</td>\n",
       "      <td>...</td>\n",
       "      <td>...</td>\n",
       "      <td>...</td>\n",
       "      <td>...</td>\n",
       "      <td>...</td>\n",
       "      <td>...</td>\n",
       "      <td>...</td>\n",
       "      <td>...</td>\n",
       "      <td>...</td>\n",
       "      <td>...</td>\n",
       "    </tr>\n",
       "    <tr>\n",
       "      <th>2021-12-13</th>\n",
       "      <td>2.149866</td>\n",
       "      <td>-0.724801</td>\n",
       "      <td>-5.013976</td>\n",
       "      <td>-1.177974</td>\n",
       "      <td>-2.762221</td>\n",
       "      <td>-4.002747</td>\n",
       "      <td>1.361365</td>\n",
       "      <td>1.748327</td>\n",
       "      <td>1.243664</td>\n",
       "      <td>2.481792</td>\n",
       "      <td>-4.731948</td>\n",
       "    </tr>\n",
       "    <tr>\n",
       "      <th>2021-12-20</th>\n",
       "      <td>1.896119</td>\n",
       "      <td>0.741499</td>\n",
       "      <td>0.974807</td>\n",
       "      <td>0.596003</td>\n",
       "      <td>1.444744</td>\n",
       "      <td>3.014058</td>\n",
       "      <td>0.066490</td>\n",
       "      <td>-0.259745</td>\n",
       "      <td>-0.414222</td>\n",
       "      <td>1.000586</td>\n",
       "      <td>4.045272</td>\n",
       "    </tr>\n",
       "    <tr>\n",
       "      <th>2021-12-27</th>\n",
       "      <td>0.243674</td>\n",
       "      <td>3.124436</td>\n",
       "      <td>2.401874</td>\n",
       "      <td>1.074407</td>\n",
       "      <td>2.202816</td>\n",
       "      <td>0.727954</td>\n",
       "      <td>3.174230</td>\n",
       "      <td>4.674914</td>\n",
       "      <td>3.474805</td>\n",
       "      <td>1.530104</td>\n",
       "      <td>0.765857</td>\n",
       "    </tr>\n",
       "    <tr>\n",
       "      <th>2022-01-03</th>\n",
       "      <td>-1.154667</td>\n",
       "      <td>-1.445754</td>\n",
       "      <td>10.522523</td>\n",
       "      <td>5.428935</td>\n",
       "      <td>0.642662</td>\n",
       "      <td>-4.566632</td>\n",
       "      <td>0.402020</td>\n",
       "      <td>-4.902530</td>\n",
       "      <td>-1.634532</td>\n",
       "      <td>-4.641914</td>\n",
       "      <td>-2.426143</td>\n",
       "    </tr>\n",
       "    <tr>\n",
       "      <th>2022-01-10</th>\n",
       "      <td>0.061483</td>\n",
       "      <td>-1.019041</td>\n",
       "      <td>-0.309747</td>\n",
       "      <td>-0.340052</td>\n",
       "      <td>-1.126864</td>\n",
       "      <td>0.018088</td>\n",
       "      <td>-0.787911</td>\n",
       "      <td>-0.588595</td>\n",
       "      <td>-0.653326</td>\n",
       "      <td>1.027160</td>\n",
       "      <td>-0.611591</td>\n",
       "    </tr>\n",
       "  </tbody>\n",
       "</table>\n",
       "<p>328 rows × 11 columns</p>\n",
       "</div>"
      ],
      "text/plain": [
       "                 IYZ       XLB        XLE       XLF       XLI       XLK  \\\n",
       "Date                                                                      \n",
       "2015-10-05       NaN       NaN        NaN       NaN       NaN       NaN   \n",
       "2015-10-12  1.805959 -0.135911   0.420616  1.333916 -1.554912  1.181285   \n",
       "2015-10-19  4.104336  2.109307  -1.401137  2.505330  4.015240  4.431758   \n",
       "2015-10-26 -0.200464  0.577523  -0.336919 -0.248585 -0.713500 -0.410679   \n",
       "2015-11-02  0.435232  0.110427   2.601801  2.699360  1.087160  1.580722   \n",
       "...              ...       ...        ...       ...       ...       ...   \n",
       "2021-12-13  2.149866 -0.724801  -5.013976 -1.177974 -2.762221 -4.002747   \n",
       "2021-12-20  1.896119  0.741499   0.974807  0.596003  1.444744  3.014058   \n",
       "2021-12-27  0.243674  3.124436   2.401874  1.074407  2.202816  0.727954   \n",
       "2022-01-03 -1.154667 -1.445754  10.522523  5.428935  0.642662 -4.566632   \n",
       "2022-01-10  0.061483 -1.019041  -0.309747 -0.340052 -1.126864  0.018088   \n",
       "\n",
       "                 XLP      XLRE       XLU       XLV       XLY  \n",
       "Date                                                          \n",
       "2015-10-05       NaN       NaN       NaN       NaN       NaN  \n",
       "2015-10-12  0.343723  1.598162  2.260789  1.928663  0.733413  \n",
       "2015-10-19  2.236540  1.396765 -0.424275 -0.616379  1.711567  \n",
       "2015-10-26 -1.694915 -0.386233 -1.883840  2.899171  1.682807  \n",
       "2015-11-02 -1.403372 -3.231022 -3.428563  0.574716  0.555769  \n",
       "...              ...       ...       ...       ...       ...  \n",
       "2021-12-13  1.361365  1.748327  1.243664  2.481792 -4.731948  \n",
       "2021-12-20  0.066490 -0.259745 -0.414222  1.000586  4.045272  \n",
       "2021-12-27  3.174230  4.674914  3.474805  1.530104  0.765857  \n",
       "2022-01-03  0.402020 -4.902530 -1.634532 -4.641914 -2.426143  \n",
       "2022-01-10 -0.787911 -0.588595 -0.653326  1.027160 -0.611591  \n",
       "\n",
       "[328 rows x 11 columns]"
      ]
     },
     "execution_count": 7,
     "metadata": {},
     "output_type": "execute_result"
    }
   ],
   "source": [
    "week_changes"
   ]
  },
  {
   "cell_type": "code",
   "execution_count": 8,
   "id": "322b528e",
   "metadata": {
    "ExecuteTime": {
     "end_time": "2022-06-07T12:23:06.210033Z",
     "start_time": "2022-06-07T12:23:06.181034Z"
    }
   },
   "outputs": [],
   "source": [
    "week_changes['best_sector']=week_changes.idxmax(axis=1)\n",
    "week_changes['worst_sector']=week_changes[week_changes.columns.difference(['best_sector'])].idxmin(axis=1)"
   ]
  },
  {
   "cell_type": "code",
   "execution_count": 9,
   "id": "a92fa17a",
   "metadata": {
    "ExecuteTime": {
     "end_time": "2022-06-07T12:23:07.220671Z",
     "start_time": "2022-06-07T12:23:07.189664Z"
    }
   },
   "outputs": [
    {
     "data": {
      "text/html": [
       "<div>\n",
       "<style scoped>\n",
       "    .dataframe tbody tr th:only-of-type {\n",
       "        vertical-align: middle;\n",
       "    }\n",
       "\n",
       "    .dataframe tbody tr th {\n",
       "        vertical-align: top;\n",
       "    }\n",
       "\n",
       "    .dataframe thead th {\n",
       "        text-align: right;\n",
       "    }\n",
       "</style>\n",
       "<table border=\"1\" class=\"dataframe\">\n",
       "  <thead>\n",
       "    <tr style=\"text-align: right;\">\n",
       "      <th></th>\n",
       "      <th>IYZ</th>\n",
       "      <th>XLB</th>\n",
       "      <th>XLE</th>\n",
       "      <th>XLF</th>\n",
       "      <th>XLI</th>\n",
       "      <th>XLK</th>\n",
       "      <th>XLP</th>\n",
       "      <th>XLRE</th>\n",
       "      <th>XLU</th>\n",
       "      <th>XLV</th>\n",
       "      <th>XLY</th>\n",
       "      <th>best_sector</th>\n",
       "      <th>worst_sector</th>\n",
       "    </tr>\n",
       "    <tr>\n",
       "      <th>Date</th>\n",
       "      <th></th>\n",
       "      <th></th>\n",
       "      <th></th>\n",
       "      <th></th>\n",
       "      <th></th>\n",
       "      <th></th>\n",
       "      <th></th>\n",
       "      <th></th>\n",
       "      <th></th>\n",
       "      <th></th>\n",
       "      <th></th>\n",
       "      <th></th>\n",
       "      <th></th>\n",
       "    </tr>\n",
       "  </thead>\n",
       "  <tbody>\n",
       "    <tr>\n",
       "      <th>2015-10-05</th>\n",
       "      <td>NaN</td>\n",
       "      <td>NaN</td>\n",
       "      <td>NaN</td>\n",
       "      <td>NaN</td>\n",
       "      <td>NaN</td>\n",
       "      <td>NaN</td>\n",
       "      <td>NaN</td>\n",
       "      <td>NaN</td>\n",
       "      <td>NaN</td>\n",
       "      <td>NaN</td>\n",
       "      <td>NaN</td>\n",
       "      <td>NaN</td>\n",
       "      <td>NaN</td>\n",
       "    </tr>\n",
       "    <tr>\n",
       "      <th>2015-10-12</th>\n",
       "      <td>1.805959</td>\n",
       "      <td>-0.135911</td>\n",
       "      <td>0.420616</td>\n",
       "      <td>1.333916</td>\n",
       "      <td>-1.554912</td>\n",
       "      <td>1.181285</td>\n",
       "      <td>0.343723</td>\n",
       "      <td>1.598162</td>\n",
       "      <td>2.260789</td>\n",
       "      <td>1.928663</td>\n",
       "      <td>0.733413</td>\n",
       "      <td>XLU</td>\n",
       "      <td>XLI</td>\n",
       "    </tr>\n",
       "    <tr>\n",
       "      <th>2015-10-19</th>\n",
       "      <td>4.104336</td>\n",
       "      <td>2.109307</td>\n",
       "      <td>-1.401137</td>\n",
       "      <td>2.505330</td>\n",
       "      <td>4.015240</td>\n",
       "      <td>4.431758</td>\n",
       "      <td>2.236540</td>\n",
       "      <td>1.396765</td>\n",
       "      <td>-0.424275</td>\n",
       "      <td>-0.616379</td>\n",
       "      <td>1.711567</td>\n",
       "      <td>XLK</td>\n",
       "      <td>XLE</td>\n",
       "    </tr>\n",
       "    <tr>\n",
       "      <th>2015-10-26</th>\n",
       "      <td>-0.200464</td>\n",
       "      <td>0.577523</td>\n",
       "      <td>-0.336919</td>\n",
       "      <td>-0.248585</td>\n",
       "      <td>-0.713500</td>\n",
       "      <td>-0.410679</td>\n",
       "      <td>-1.694915</td>\n",
       "      <td>-0.386233</td>\n",
       "      <td>-1.883840</td>\n",
       "      <td>2.899171</td>\n",
       "      <td>1.682807</td>\n",
       "      <td>XLV</td>\n",
       "      <td>XLU</td>\n",
       "    </tr>\n",
       "    <tr>\n",
       "      <th>2015-11-02</th>\n",
       "      <td>0.435232</td>\n",
       "      <td>0.110427</td>\n",
       "      <td>2.601801</td>\n",
       "      <td>2.699360</td>\n",
       "      <td>1.087160</td>\n",
       "      <td>1.580722</td>\n",
       "      <td>-1.403372</td>\n",
       "      <td>-3.231022</td>\n",
       "      <td>-3.428563</td>\n",
       "      <td>0.574716</td>\n",
       "      <td>0.555769</td>\n",
       "      <td>XLF</td>\n",
       "      <td>XLU</td>\n",
       "    </tr>\n",
       "  </tbody>\n",
       "</table>\n",
       "</div>"
      ],
      "text/plain": [
       "                 IYZ       XLB       XLE       XLF       XLI       XLK  \\\n",
       "Date                                                                     \n",
       "2015-10-05       NaN       NaN       NaN       NaN       NaN       NaN   \n",
       "2015-10-12  1.805959 -0.135911  0.420616  1.333916 -1.554912  1.181285   \n",
       "2015-10-19  4.104336  2.109307 -1.401137  2.505330  4.015240  4.431758   \n",
       "2015-10-26 -0.200464  0.577523 -0.336919 -0.248585 -0.713500 -0.410679   \n",
       "2015-11-02  0.435232  0.110427  2.601801  2.699360  1.087160  1.580722   \n",
       "\n",
       "                 XLP      XLRE       XLU       XLV       XLY best_sector  \\\n",
       "Date                                                                       \n",
       "2015-10-05       NaN       NaN       NaN       NaN       NaN         NaN   \n",
       "2015-10-12  0.343723  1.598162  2.260789  1.928663  0.733413         XLU   \n",
       "2015-10-19  2.236540  1.396765 -0.424275 -0.616379  1.711567         XLK   \n",
       "2015-10-26 -1.694915 -0.386233 -1.883840  2.899171  1.682807         XLV   \n",
       "2015-11-02 -1.403372 -3.231022 -3.428563  0.574716  0.555769         XLF   \n",
       "\n",
       "           worst_sector  \n",
       "Date                     \n",
       "2015-10-05          NaN  \n",
       "2015-10-12          XLI  \n",
       "2015-10-19          XLE  \n",
       "2015-10-26          XLU  \n",
       "2015-11-02          XLU  "
      ]
     },
     "execution_count": 9,
     "metadata": {},
     "output_type": "execute_result"
    }
   ],
   "source": [
    "week_changes.head()"
   ]
  },
  {
   "cell_type": "code",
   "execution_count": 10,
   "id": "539d0b2e",
   "metadata": {
    "ExecuteTime": {
     "end_time": "2022-06-07T12:23:08.093181Z",
     "start_time": "2022-06-07T12:23:08.085184Z"
    }
   },
   "outputs": [
    {
     "data": {
      "text/plain": [
       "79.38107299804688"
      ]
     },
     "execution_count": 10,
     "metadata": {},
     "output_type": "execute_result"
    }
   ],
   "source": [
    "week_prices.loc['2017-01-09'][week_changes.loc['2017-01-09'].best_sector]"
   ]
  },
  {
   "cell_type": "code",
   "execution_count": 11,
   "id": "a44dd918",
   "metadata": {
    "ExecuteTime": {
     "end_time": "2022-06-07T12:23:08.807549Z",
     "start_time": "2022-06-07T12:23:08.790539Z"
    }
   },
   "outputs": [
    {
     "data": {
      "text/html": [
       "<div>\n",
       "<style scoped>\n",
       "    .dataframe tbody tr th:only-of-type {\n",
       "        vertical-align: middle;\n",
       "    }\n",
       "\n",
       "    .dataframe tbody tr th {\n",
       "        vertical-align: top;\n",
       "    }\n",
       "\n",
       "    .dataframe thead th {\n",
       "        text-align: right;\n",
       "    }\n",
       "</style>\n",
       "<table border=\"1\" class=\"dataframe\">\n",
       "  <thead>\n",
       "    <tr style=\"text-align: right;\">\n",
       "      <th></th>\n",
       "      <th>IYZ</th>\n",
       "      <th>XLB</th>\n",
       "      <th>XLE</th>\n",
       "      <th>XLF</th>\n",
       "      <th>XLI</th>\n",
       "      <th>XLK</th>\n",
       "      <th>XLP</th>\n",
       "      <th>XLRE</th>\n",
       "      <th>XLU</th>\n",
       "      <th>XLV</th>\n",
       "      <th>XLY</th>\n",
       "      <th>best_sector</th>\n",
       "      <th>worst_sector</th>\n",
       "    </tr>\n",
       "    <tr>\n",
       "      <th>Date</th>\n",
       "      <th></th>\n",
       "      <th></th>\n",
       "      <th></th>\n",
       "      <th></th>\n",
       "      <th></th>\n",
       "      <th></th>\n",
       "      <th></th>\n",
       "      <th></th>\n",
       "      <th></th>\n",
       "      <th></th>\n",
       "      <th></th>\n",
       "      <th></th>\n",
       "      <th></th>\n",
       "    </tr>\n",
       "  </thead>\n",
       "  <tbody>\n",
       "    <tr>\n",
       "      <th>2021-12-13</th>\n",
       "      <td>2.149866</td>\n",
       "      <td>-0.724801</td>\n",
       "      <td>-5.013976</td>\n",
       "      <td>-1.177974</td>\n",
       "      <td>-2.762221</td>\n",
       "      <td>-4.002747</td>\n",
       "      <td>1.361365</td>\n",
       "      <td>1.748327</td>\n",
       "      <td>1.243664</td>\n",
       "      <td>2.481792</td>\n",
       "      <td>-4.731948</td>\n",
       "      <td>XLV</td>\n",
       "      <td>XLE</td>\n",
       "    </tr>\n",
       "    <tr>\n",
       "      <th>2021-12-20</th>\n",
       "      <td>1.896119</td>\n",
       "      <td>0.741499</td>\n",
       "      <td>0.974807</td>\n",
       "      <td>0.596003</td>\n",
       "      <td>1.444744</td>\n",
       "      <td>3.014058</td>\n",
       "      <td>0.066490</td>\n",
       "      <td>-0.259745</td>\n",
       "      <td>-0.414222</td>\n",
       "      <td>1.000586</td>\n",
       "      <td>4.045272</td>\n",
       "      <td>XLY</td>\n",
       "      <td>XLU</td>\n",
       "    </tr>\n",
       "    <tr>\n",
       "      <th>2021-12-27</th>\n",
       "      <td>0.243674</td>\n",
       "      <td>3.124436</td>\n",
       "      <td>2.401874</td>\n",
       "      <td>1.074407</td>\n",
       "      <td>2.202816</td>\n",
       "      <td>0.727954</td>\n",
       "      <td>3.174230</td>\n",
       "      <td>4.674914</td>\n",
       "      <td>3.474805</td>\n",
       "      <td>1.530104</td>\n",
       "      <td>0.765857</td>\n",
       "      <td>XLRE</td>\n",
       "      <td>IYZ</td>\n",
       "    </tr>\n",
       "    <tr>\n",
       "      <th>2022-01-03</th>\n",
       "      <td>-1.154667</td>\n",
       "      <td>-1.445754</td>\n",
       "      <td>10.522523</td>\n",
       "      <td>5.428935</td>\n",
       "      <td>0.642662</td>\n",
       "      <td>-4.566632</td>\n",
       "      <td>0.402020</td>\n",
       "      <td>-4.902530</td>\n",
       "      <td>-1.634532</td>\n",
       "      <td>-4.641914</td>\n",
       "      <td>-2.426143</td>\n",
       "      <td>XLE</td>\n",
       "      <td>XLRE</td>\n",
       "    </tr>\n",
       "    <tr>\n",
       "      <th>2022-01-10</th>\n",
       "      <td>0.061483</td>\n",
       "      <td>-1.019041</td>\n",
       "      <td>-0.309747</td>\n",
       "      <td>-0.340052</td>\n",
       "      <td>-1.126864</td>\n",
       "      <td>0.018088</td>\n",
       "      <td>-0.787911</td>\n",
       "      <td>-0.588595</td>\n",
       "      <td>-0.653326</td>\n",
       "      <td>1.027160</td>\n",
       "      <td>-0.611591</td>\n",
       "      <td>XLV</td>\n",
       "      <td>XLI</td>\n",
       "    </tr>\n",
       "  </tbody>\n",
       "</table>\n",
       "</div>"
      ],
      "text/plain": [
       "                 IYZ       XLB        XLE       XLF       XLI       XLK  \\\n",
       "Date                                                                      \n",
       "2021-12-13  2.149866 -0.724801  -5.013976 -1.177974 -2.762221 -4.002747   \n",
       "2021-12-20  1.896119  0.741499   0.974807  0.596003  1.444744  3.014058   \n",
       "2021-12-27  0.243674  3.124436   2.401874  1.074407  2.202816  0.727954   \n",
       "2022-01-03 -1.154667 -1.445754  10.522523  5.428935  0.642662 -4.566632   \n",
       "2022-01-10  0.061483 -1.019041  -0.309747 -0.340052 -1.126864  0.018088   \n",
       "\n",
       "                 XLP      XLRE       XLU       XLV       XLY best_sector  \\\n",
       "Date                                                                       \n",
       "2021-12-13  1.361365  1.748327  1.243664  2.481792 -4.731948         XLV   \n",
       "2021-12-20  0.066490 -0.259745 -0.414222  1.000586  4.045272         XLY   \n",
       "2021-12-27  3.174230  4.674914  3.474805  1.530104  0.765857        XLRE   \n",
       "2022-01-03  0.402020 -4.902530 -1.634532 -4.641914 -2.426143         XLE   \n",
       "2022-01-10 -0.787911 -0.588595 -0.653326  1.027160 -0.611591         XLV   \n",
       "\n",
       "           worst_sector  \n",
       "Date                     \n",
       "2021-12-13          XLE  \n",
       "2021-12-20          XLU  \n",
       "2021-12-27          IYZ  \n",
       "2022-01-03         XLRE  \n",
       "2022-01-10          XLI  "
      ]
     },
     "execution_count": 11,
     "metadata": {},
     "output_type": "execute_result"
    }
   ],
   "source": [
    "week_changes.tail()"
   ]
  },
  {
   "cell_type": "code",
   "execution_count": 12,
   "id": "a555c337",
   "metadata": {
    "ExecuteTime": {
     "end_time": "2022-06-07T12:23:11.913806Z",
     "start_time": "2022-06-07T12:23:09.354810Z"
    }
   },
   "outputs": [
    {
     "name": "stdout",
     "output_type": "stream",
     "text": [
      "1000000.0 2017-01-02\n",
      "995799.39 2017-01-09\n",
      "995443.28 2017-01-16\n",
      "991656.77 2017-01-23\n",
      "977948.91 2017-01-30\n",
      "983973.36 2017-02-06\n",
      "1001606.24 2017-02-13\n",
      "999559.75 2017-02-20\n",
      "998203.53 2017-02-27\n",
      "991008.0 2017-03-06\n",
      "995299.64 2017-03-13\n",
      "961155.21 2017-03-20\n",
      "950412.06 2017-03-27\n",
      "956666.16 2017-04-03\n",
      "962713.82 2017-04-10\n",
      "970518.72 2017-04-17\n",
      "984317.27 2017-04-24\n",
      "990444.63 2017-05-01\n",
      "978811.8 2017-05-08\n",
      "973174.74 2017-05-15\n",
      "979911.8 2017-05-22\n",
      "996059.76 2017-05-29\n",
      "988940.86 2017-06-05\n",
      "988940.86 2017-06-12\n",
      "983928.75 2017-06-19\n",
      "968890.02 2017-06-26\n",
      "983813.8 2017-07-03\n",
      "978708.09 2017-07-10\n",
      "989207.65 2017-07-17\n",
      "984566.96 2017-07-24\n",
      "972273.15 2017-07-31\n",
      "946999.52 2017-08-07\n",
      "948373.85 2017-08-14\n",
      "959510.55 2017-08-21\n",
      "963020.78 2017-08-28\n",
      "978550.49 2017-09-04\n",
      "979143.37 2017-09-11\n",
      "1009424.69 2017-09-18\n",
      "1028651.59 2017-09-25\n",
      "1022492.93 2017-10-02\n",
      "1005880.65 2017-10-09\n",
      "997046.49 2017-10-16\n",
      "1002286.16 2017-10-23\n",
      "1017510.18 2017-10-30\n",
      "1032028.44 2017-11-06\n",
      "1024397.2 2017-11-13\n",
      "1049241.8 2017-11-20\n",
      "1085968.61 2017-11-27\n",
      "1102899.79 2017-12-04\n",
      "1095024.88 2017-12-11\n",
      "1097258.04 2017-12-18\n",
      "1101679.03 2017-12-25\n",
      "1079270.77 2018-01-01\n",
      "1088370.44 2018-01-08\n",
      "1081854.39 2018-01-15\n",
      "1094531.05 2018-01-22\n",
      "1038934.95 2018-01-29\n",
      "1011441.31 2018-02-05\n",
      "1043933.89 2018-02-12\n",
      "1061181.87 2018-02-19\n",
      "1051703.31 2018-02-26\n",
      "1074949.38 2018-03-05\n",
      "1044908.93 2018-03-12\n",
      "1028089.86 2018-03-19\n",
      "1037943.97 2018-03-26\n",
      "1033802.63 2018-04-02\n",
      "1096119.93 2018-04-09\n",
      "1125129.61 2018-04-16\n",
      "1133111.17 2018-04-23\n",
      "1128728.65 2018-04-30\n",
      "1166453.23 2018-05-07\n",
      "1187431.38 2018-05-14\n",
      "1133770.14 2018-05-21\n",
      "1127259.92 2018-05-28\n",
      "1134934.11 2018-06-04\n",
      "1157544.99 2018-06-11\n",
      "1152407.73 2018-06-18\n",
      "1166674.2 2018-06-25\n",
      "1193842.27 2018-07-02\n",
      "1213135.33 2018-07-09\n",
      "1224484.93 2018-07-16\n",
      "1249809.39 2018-07-23\n",
      "1227139.86 2018-07-30\n",
      "1204821.81 2018-08-06\n",
      "1240742.27 2018-08-13\n",
      "1219094.55 2018-08-20\n",
      "1217459.03 2018-08-27\n",
      "1203197.67 2018-09-03\n",
      "1207645.66 2018-09-10\n",
      "1213292.61 2018-09-17\n",
      "1166128.36 2018-09-24\n",
      "1187990.63 2018-10-01\n",
      "1123942.88 2018-10-08\n",
      "1158329.23 2018-10-15\n",
      "1140115.14 2018-10-22\n",
      "1156774.78 2018-10-29\n",
      "1178640.83 2018-11-05\n",
      "1167102.48 2018-11-12\n",
      "1150011.48 2018-11-19\n",
      "1181466.09 2018-11-26\n",
      "1116029.36 2018-12-03\n",
      "1123145.06 2018-12-10\n",
      "1063649.85 2018-12-17\n",
      "1053148.19 2018-12-24\n",
      "1084001.61 2018-12-31\n",
      "1122747.46 2019-01-07\n",
      "1161124.96 2019-01-14\n",
      "1161124.96 2019-01-21\n",
      "1195821.59 2019-01-28\n",
      "1159887.58 2019-02-04\n",
      "1160512.6 2019-02-11\n",
      "1154194.29 2019-02-18\n",
      "1155812.92 2019-02-25\n",
      "1111460.95 2019-03-04\n",
      "1123821.07 2019-03-11\n",
      "1132548.81 2019-03-18\n",
      "1145835.43 2019-03-25\n",
      "1176073.24 2019-04-01\n",
      "1182175.38 2019-04-08\n",
      "1190887.01 2019-04-15\n",
      "1178873.56 2019-04-22\n",
      "1194103.69 2019-04-29\n",
      "1169005.47 2019-05-06\n",
      "1177980.47 2019-05-13\n",
      "1181517.0 2019-05-20\n",
      "1150315.63 2019-05-27\n",
      "1180595.16 2019-06-03\n",
      "1187572.03 2019-06-10\n",
      "1197894.76 2019-06-17\n",
      "1211681.46 2019-06-24\n",
      "1220380.28 2019-07-01\n",
      "1233693.16 2019-07-08\n",
      "1201529.88 2019-07-15\n",
      "1210149.02 2019-07-22\n",
      "1164173.01 2019-07-29\n",
      "1185120.75 2019-08-05\n",
      "1190973.9 2019-08-12\n",
      "1179303.43 2019-08-19\n",
      "1210583.74 2019-08-26\n",
      "1233592.44 2019-09-02\n",
      "1239113.91 2019-09-09\n",
      "1221282.04 2019-09-16\n",
      "1246719.61 2019-09-23\n",
      "1248068.63 2019-09-30\n",
      "1263872.6 2019-10-07\n",
      "1267398.45 2019-10-14\n",
      "1255826.01 2019-10-21\n",
      "1250762.03 2019-10-28\n",
      "1254189.49 2019-11-04\n",
      "1250406.7 2019-11-11\n",
      "1260669.96 2019-11-18\n",
      "1276449.82 2019-11-25\n",
      "1270658.61 2019-12-02\n",
      "1283211.96 2019-12-09\n",
      "1304146.1 2019-12-16\n",
      "1310058.02 2019-12-23\n",
      "1312444.39 2019-12-30\n",
      "1310860.38 2020-01-06\n",
      "1332409.86 2020-01-13\n",
      "1364341.62 2020-01-20\n",
      "1376715.42 2020-01-27\n",
      "1368931.91 2020-02-03\n",
      "1400102.22 2020-02-10\n",
      "1401773.41 2020-02-17\n",
      "1229940.5 2020-02-24\n",
      "1248395.83 2020-03-02\n",
      "1072795.11 2020-03-09\n",
      "910073.92 2020-03-16\n",
      "964708.44 2020-03-23\n",
      "906295.09 2020-03-30\n",
      "1030253.48 2020-04-06\n",
      "1001547.41 2020-04-13\n",
      "996677.81 2020-04-20\n",
      "1032087.67 2020-04-27\n",
      "1116438.13 2020-05-04\n",
      "1036118.27 2020-05-11\n",
      "1027864.52 2020-05-18\n",
      "1089529.4 2020-05-25\n",
      "1221241.01 2020-06-01\n",
      "1084519.36 2020-06-08\n",
      "1115393.1 2020-06-15\n",
      "1079523.94 2020-06-22\n",
      "1122260.32 2020-06-29\n",
      "1102107.79 2020-07-06\n",
      "1106489.07 2020-07-13\n",
      "1104030.3 2020-07-20\n",
      "1060470.54 2020-07-27\n",
      "1092255.87 2020-08-03\n",
      "1127147.35 2020-08-10\n",
      "1111446.26 2020-08-17\n",
      "1160634.58 2020-08-24\n",
      "1113142.44 2020-08-31\n",
      "1124024.89 2020-09-07\n",
      "1135252.96 2020-09-14\n",
      "1019399.1 2020-09-21\n",
      "1030622.51 2020-09-28\n",
      "1044767.44 2020-10-05\n",
      "1040997.02 2020-10-12\n",
      "1035511.48 2020-10-19\n",
      "997611.45 2020-10-26\n",
      "1054198.93 2020-11-02\n",
      "1050904.03 2020-11-09\n",
      "1110767.96 2020-11-16\n",
      "1206922.41 2020-11-23\n",
      "1260272.7 2020-11-30\n",
      "1275471.26 2020-12-07\n",
      "1222120.97 2020-12-14\n",
      "1229839.52 2020-12-21\n",
      "1259071.88 2020-12-28\n",
      "1251642.32 2021-01-04\n",
      "1291832.59 2021-01-11\n",
      "1271284.14 2021-01-18\n",
      "1233960.7 2021-01-25\n",
      "1273570.29 2021-02-01\n",
      "1336709.31 2021-02-08\n",
      "1381894.67 2021-02-15\n",
      "1440844.71 2021-02-22\n",
      "1584479.35 2021-03-01\n",
      "1603032.1 2021-03-08\n",
      "1599956.07 2021-03-15\n",
      "1627068.67 2021-03-22\n",
      "1621554.65 2021-03-29\n",
      "1696835.09 2021-04-05\n",
      "1715146.47 2021-04-12\n",
      "1699070.06 2021-04-19\n",
      "1720388.18 2021-04-26\n",
      "1868077.43 2021-05-03\n",
      "1863200.91 2021-05-10\n",
      "1866091.12 2021-05-17\n",
      "1906638.44 2021-05-24\n",
      "1886673.27 2021-05-31\n",
      "1874152.32 2021-06-07\n",
      "1861964.39 2021-06-14\n",
      "1903110.85 2021-06-21\n",
      "1899978.86 2021-06-28\n",
      "1916966.85 2021-07-05\n",
      "1930328.22 2021-07-12\n",
      "1914016.57 2021-07-19\n",
      "1884359.15 2021-07-26\n",
      "1887050.5 2021-08-02\n",
      "1922937.22 2021-08-09\n",
      "1863549.79 2021-08-16\n",
      "1825975.9 2021-08-23\n",
      "1800425.15 2021-08-30\n",
      "1730965.21 2021-09-06\n",
      "1742416.27 2021-09-13\n",
      "1798235.74 2021-09-20\n",
      "1925211.11 2021-09-27\n",
      "2022830.29 2021-10-04\n",
      "2050006.54 2021-10-11\n",
      "2066571.8 2021-10-18\n",
      "2072205.18 2021-10-25\n",
      "2176354.05 2021-11-01\n",
      "2099401.28 2021-11-08\n",
      "2057694.4 2021-11-15\n",
      "1986161.27 2021-11-22\n",
      "1970438.04 2021-11-29\n",
      "2021598.11 2021-12-06\n",
      "1940684.14 2021-12-13\n",
      "1960102.13 2021-12-20\n",
      "1975113.57 2021-12-27\n",
      "1878283.65 2022-01-03\n",
      "1872465.9 2022-01-10\n"
     ]
    }
   ],
   "source": [
    "import pandas as pd\n",
    "import numpy as np\n",
    "import datetime as dt\n",
    "import math\n",
    "import warnings\n",
    "\n",
    "warnings.filterwarnings(\"ignore\")\n",
    "\n",
    "\n",
    "today = dt.date(2017, 1, 2)\n",
    "simend = dt.date(2022, 1, 10)\n",
    "tickers = []\n",
    "transactionid = 0\n",
    "money = 1000000\n",
    "portfolio = {}\n",
    "activelog = []\n",
    "transactionlog = []\n",
    "\n",
    "\n",
    "def getprice(date, ticker):\n",
    "    global week_prices\n",
    "    try:\n",
    "        price = week_prices.loc[str(date)][ticker]\n",
    "        return price\n",
    "    except Exception as e:\n",
    "        return None\n",
    "\n",
    "\n",
    "def transaction(id, ticker, amount, price, type,profit):\n",
    "    global transactionid\n",
    "    if type == \"buy\":\n",
    "        exp_date = today + dt.timedelta(days=7)\n",
    "        transactionid += 1\n",
    "    else:\n",
    "        exp_date = today\n",
    "    if type == \"sell\":\n",
    "        data = {\"id\": id, \"ticker\": ticker, \"amount\": amount, \"price\": price, \"date\": today, \"type\": type,\n",
    "                \"exp_date\": exp_date, \"profit\": profit}\n",
    "    elif type == \"buy\":\n",
    "        data = {\"id\": transactionid, \"ticker\": ticker, \"amount\": amount, \"price\": price, \"date\": today, \"type\": type,\n",
    "                \"exp_date\": exp_date, \"profit\": profit}\n",
    "        activelog.append(data)\n",
    "    transactionlog.append(data)\n",
    "\n",
    "\n",
    "def buy(interestlst, allocated_money):\n",
    "    global money, portfolio\n",
    "    for item in interestlst:\n",
    "        price = getprice(today, item)\n",
    "        if not pd.isnull(price):\n",
    "            quantity = math.floor(allocated_money/price)\n",
    "            if money >= quantity*price:\n",
    "                money -= quantity*price\n",
    "                portfolio[item] += quantity\n",
    "                transaction(0, item, quantity, price, \"buy\", 0)\n",
    "\n",
    "\n",
    "def sell():\n",
    "    global money, portfolio, week_prices, today\n",
    "    itemstoremove = []\n",
    "    for i in range(len(activelog)):\n",
    "        log = activelog[i]\n",
    "        if log[\"exp_date\"] <= today and log[\"type\"] == \"buy\":\n",
    "            tickprice = getprice(today, log[\"ticker\"])\n",
    "            if not pd.isnull(tickprice):\n",
    "                money += log[\"amount\"]*tickprice\n",
    "                portfolio[log[\"ticker\"]] -= log[\"amount\"]\n",
    "                profit = log[\"amount\"]*tickprice - log[\"amount\"]*log[\"price\"]\n",
    "                transaction(log[\"id\"], log[\"ticker\"], log[\"amount\"], tickprice, \"sell\",profit)\n",
    "                itemstoremove.append(i)\n",
    "            else:\n",
    "                log[\"exp_date\"] += dt.timedelta(days=1)\n",
    "    itemstoremove.reverse()\n",
    "    for elem in itemstoremove:\n",
    "        activelog.remove(activelog[elem])\n",
    "\n",
    "\n",
    "def simulation():\n",
    "    global today, week_changes, money\n",
    "    start_date = today - dt.timedelta(days=7)\n",
    "    interestlst = []\n",
    "    interestlst.append(week_changes.loc[str(today)].best_sector)\n",
    "    sell()\n",
    "    if len(interestlst) > 0:\n",
    "        #moneyToAllocate = 500000/len(interestlst)\n",
    "        moneyToAllocate = currentvalue()/(len(interestlst))\n",
    "        buy(interestlst, moneyToAllocate)\n",
    "\n",
    "\n",
    "def getindices():\n",
    "    global tickers\n",
    "    f = open(r\"C:\\Users\\chriq\\Mon Drive\\2022\\Financial DS\\Final_project\\sectors.txt\", \"r\")\n",
    "    for line in f:\n",
    "        tickers.append(line.strip())\n",
    "    f.close()\n",
    "\n",
    "\n",
    "def tradingday():\n",
    "    global week_prices, today\n",
    "    return np.datetime64(today) in list(week_prices.index.values)\n",
    "\n",
    "\n",
    "def currentvalue():\n",
    "    global money, portfolio, today, week_prices\n",
    "    value = money\n",
    "    for ticker in tickers:\n",
    "        tickprice = getprice(today, ticker)\n",
    "        if not pd.isnull(tickprice):\n",
    "            value += portfolio[ticker]*tickprice\n",
    "    return int(value*100)/100\n",
    "\n",
    "\n",
    "def main():\n",
    "    global today\n",
    "    getindices()\n",
    "    for ticker in tickers:\n",
    "        portfolio[ticker] = 0\n",
    "    while today <= simend:\n",
    "        while not tradingday():\n",
    "            today += dt.timedelta(days=1)\n",
    "        simulation()\n",
    "        currentpvalue = currentvalue()\n",
    "        print(currentpvalue, today)\n",
    "        today += dt.timedelta(days=7)\n",
    "\n",
    "    df = pd.DataFrame(transactionlog)\n",
    "    df.to_csv('transactions_bestsect.csv',index=False)\n",
    "\n",
    "main()"
   ]
  },
  {
   "cell_type": "code",
   "execution_count": 18,
   "id": "2a99bbb7",
   "metadata": {
    "ExecuteTime": {
     "end_time": "2022-02-03T14:00:08.128557Z",
     "start_time": "2022-02-03T14:00:08.123555Z"
    }
   },
   "outputs": [],
   "source": [
    "today = dt.date(2017, 1, 9)"
   ]
  },
  {
   "cell_type": "code",
   "execution_count": 20,
   "id": "aa940882",
   "metadata": {
    "ExecuteTime": {
     "end_time": "2022-02-03T14:00:15.295414Z",
     "start_time": "2022-02-03T14:00:15.288321Z"
    }
   },
   "outputs": [
    {
     "data": {
      "text/plain": [
       "'XLRE'"
      ]
     },
     "execution_count": 20,
     "metadata": {},
     "output_type": "execute_result"
    }
   ],
   "source": [
    "week_changes.loc[str(today)].worst_sector"
   ]
  },
  {
   "cell_type": "code",
   "execution_count": 1,
   "id": "e428a708",
   "metadata": {
    "ExecuteTime": {
     "end_time": "2022-02-03T13:57:09.144598Z",
     "start_time": "2022-02-03T13:57:09.012464Z"
    }
   },
   "outputs": [
    {
     "ename": "NameError",
     "evalue": "name 'simulation' is not defined",
     "output_type": "error",
     "traceback": [
      "\u001b[1;31m---------------------------------------------------------------------------\u001b[0m",
      "\u001b[1;31mNameError\u001b[0m                                 Traceback (most recent call last)",
      "\u001b[1;32m<ipython-input-1-18fa8a115b3b>\u001b[0m in \u001b[0;36m<module>\u001b[1;34m\u001b[0m\n\u001b[1;32m----> 1\u001b[1;33m \u001b[0mq\u001b[0m\u001b[1;33m=\u001b[0m\u001b[0msimulation\u001b[0m\u001b[1;33m(\u001b[0m\u001b[1;33m)\u001b[0m\u001b[1;33m\u001b[0m\u001b[1;33m\u001b[0m\u001b[0m\n\u001b[0m",
      "\u001b[1;31mNameError\u001b[0m: name 'simulation' is not defined"
     ]
    }
   ],
   "source": [
    "q=simulation()"
   ]
  },
  {
   "cell_type": "code",
   "execution_count": 165,
   "id": "4b74213c",
   "metadata": {
    "ExecuteTime": {
     "end_time": "2022-06-12T13:17:59.870710Z",
     "start_time": "2022-06-12T13:17:59.719679Z"
    }
   },
   "outputs": [
    {
     "data": {
      "text/plain": [
       "<AxesSubplot:xlabel='Date'>"
      ]
     },
     "execution_count": 165,
     "metadata": {},
     "output_type": "execute_result"
    },
    {
     "data": {
      "image/png": "[encoded data removed]",
      "text/plain": [
       "<Figure size 432x288 with 1 Axes>"
      ]
     },
     "metadata": {
      "needs_background": "light"
     },
     "output_type": "display_data"
    }
   ],
   "source": [
    "spy.plot()"
   ]
  },
  {
   "cell_type": "code",
   "execution_count": 164,
   "id": "7ecb427d",
   "metadata": {
    "ExecuteTime": {
     "end_time": "2022-06-12T13:17:52.411510Z",
     "start_time": "2022-06-12T13:17:52.236557Z"
    }
   },
   "outputs": [
    {
     "data": {
      "text/plain": [
       "<AxesSubplot:xlabel='Date'>"
      ]
     },
     "execution_count": 164,
     "metadata": {},
     "output_type": "execute_result"
    },
    {
     "data": {
      "image/png": "[encoded data removed]",
      "text/plain": [
       "<Figure size 432x288 with 1 Axes>"
      ]
     },
     "metadata": {
      "needs_background": "light"
     },
     "output_type": "display_data"
    }
   ],
   "source": [
    "spy.diff().plot()"
   ]
  },
  {
   "cell_type": "code",
   "execution_count": 166,
   "id": "e1ba6ea5",
   "metadata": {
    "ExecuteTime": {
     "end_time": "2022-06-12T13:18:11.251781Z",
     "start_time": "2022-06-12T13:18:11.050763Z"
    }
   },
   "outputs": [
    {
     "data": {
      "text/plain": [
       "<AxesSubplot:xlabel='Date'>"
      ]
     },
     "execution_count": 166,
     "metadata": {},
     "output_type": "execute_result"
    },
    {
     "data": {
      "image/png": "[encoded data removed]",
      "text/plain": [
       "<Figure size 432x288 with 1 Axes>"
      ]
     },
     "metadata": {
      "needs_background": "light"
     },
     "output_type": "display_data"
    }
   ],
   "source": [
    "spy.pct_change().plot()"
   ]
  },
  {
   "cell_type": "code",
   "execution_count": null,
   "id": "f7f768c9",
   "metadata": {},
   "outputs": [],
   "source": []
  }
 ],
 "metadata": {
  "kernelspec": {
   "display_name": "Python 3",
   "language": "python",
   "name": "python3"
  },
  "language_info": {
   "codemirror_mode": {
    "name": "ipython",
    "version": 3
   },
   "file_extension": ".py",
   "mimetype": "text/x-python",
   "name": "python",
   "nbconvert_exporter": "python",
   "pygments_lexer": "ipython3",
   "version": "3.8.8"
  },
  "toc": {
   "base_numbering": 1,
   "nav_menu": {},
   "number_sections": true,
   "sideBar": true,
   "skip_h1_title": false,
   "title_cell": "Table of Contents",
   "title_sidebar": "Contents",
   "toc_cell": false,
   "toc_position": {},
   "toc_section_display": true,
   "toc_window_display": false
  }
 },
 "nbformat": 4,
 "nbformat_minor": 5
}
