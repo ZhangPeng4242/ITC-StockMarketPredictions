{
 "cells": [
  {
   "cell_type": "code",
   "execution_count": 147,
   "id": "dc4fbb3c",
   "metadata": {},
   "outputs": [
    {
     "name": "stdout",
     "output_type": "stream",
     "text": [
      "Average: 203.5685\n",
      "237\n"
     ]
    }
   ],
   "source": [
    "import numpy as np\n",
    "\n",
    "\n",
    "class Agent:\n",
    "    def __init__(self, n_machines=10):\n",
    "        self.t = 0  # current time step\n",
    "        self.n_machines = n_machines\n",
    "        self.machine_credits = np.array([0] * n_machines)\n",
    "        self.machine_probs = [1 / n_machines] * n_machines\n",
    "        self.temperature = 1.5\n",
    "\n",
    "    def pick_machine(self):\n",
    "        # returns index of machine\n",
    "        return np.random.choice([i for i in range(10)], size=1, p=self.machine_probs)[0]\n",
    "\n",
    "    def recalculate_machine_probs(self):\n",
    "        self.machine_probs = np.exp(self.machine_credits / self.temperature) / sum(\n",
    "            np.exp(self.machine_credits / self.temperature))\n",
    "\n",
    "    def get_reward(self, reward, machine_index):\n",
    "        self.t += 1\n",
    "        if reward == 1:\n",
    "            self.machine_credits[machine_index] = self.machine_credits[machine_index] + 1\n",
    "        else:\n",
    "            self.machine_credits[machine_index] = self.machine_credits[machine_index] - 1\n",
    "        self.recalculate_machine_probs()\n",
    "\n",
    "\n",
    "class Environment:\n",
    "    def __init__(self, n_machines=10):\n",
    "        self.n_machines = n_machines\n",
    "        # Machine i has reward distribution Bernoulli(p_i)\n",
    "        # The p_i's are drawn from Uniform([0, 1])\n",
    "        self.params = np.random.uniform(size=n_machines)\n",
    "\n",
    "    def _interact(self, machine_index):\n",
    "        assert 0 <= machine_index < self.n_machines, 'Bad machine index'\n",
    "        p = self.params[machine_index]\n",
    "        # Sample from Bernoulli(p) to get reward:\n",
    "        # (i.e. Binomial distribution with n=1)\n",
    "        reward = np.random.binomial(n=1, p=p)\n",
    "        return reward\n",
    "\n",
    "    def run(self, time_steps=250):\n",
    "        total_reward = 0\n",
    "        agent = Agent()\n",
    "        for _ in range(time_steps):\n",
    "            machine_index = agent.pick_machine()\n",
    "            reward = self._interact(machine_index)\n",
    "            agent.get_reward(reward, machine_index)\n",
    "            total_reward += reward\n",
    "        return total_reward\n",
    "\n",
    "\n",
    "if __name__ == \"__main__\":\n",
    "    reward = 0\n",
    "    n = 2000\n",
    "    for i in range(n):\n",
    "        reward += Environment().run()\n",
    "    print('Average:', reward / n)\n",
    "    print(Environment().run())"
   ]
  },
  {
   "cell_type": "code",
   "execution_count": null,
   "id": "fc66a108",
   "metadata": {},
   "outputs": [],
   "source": []
  }
 ],
 "metadata": {
  "kernelspec": {
   "display_name": "Python 3 (ipykernel)",
   "language": "python",
   "name": "python3"
  },
  "language_info": {
   "codemirror_mode": {
    "name": "ipython",
    "version": 3
   },
   "file_extension": ".py",
   "mimetype": "text/x-python",
   "name": "python",
   "nbconvert_exporter": "python",
   "pygments_lexer": "ipython3",
   "version": "3.9.7"
  },
  "toc": {
   "base_numbering": 1,
   "nav_menu": {},
   "number_sections": true,
   "sideBar": true,
   "skip_h1_title": false,
   "title_cell": "Table of Contents",
   "title_sidebar": "Contents",
   "toc_cell": false,
   "toc_position": {},
   "toc_section_display": true,
   "toc_window_display": false
  }
 },
 "nbformat": 4,
 "nbformat_minor": 5
}
