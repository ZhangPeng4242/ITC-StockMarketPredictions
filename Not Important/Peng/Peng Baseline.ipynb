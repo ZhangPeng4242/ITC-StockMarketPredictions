{
 "cells": [
  {
   "cell_type": "code",
   "execution_count": 1,
   "id": "2e604691",
   "metadata": {},
   "outputs": [],
   "source": [
    "import pandas as pd \n",
    "import matplotlib.pyplot as plt \n",
    "import numpy as np\n",
    "import yfinance as yf"
   ]
  },
  {
   "cell_type": "code",
   "execution_count": 11,
   "id": "1cb37ba0",
   "metadata": {},
   "outputs": [],
   "source": [
    "from statsmodels.tsa.arima.model import ARIMA\n",
    "from statsmodels.graphics.tsaplots import plot_acf, plot_pacf"
   ]
  },
  {
   "cell_type": "code",
   "execution_count": null,
   "id": "3cfd2cbc",
   "metadata": {},
   "outputs": [],
   "source": []
  },
  {
   "cell_type": "code",
   "execution_count": 31,
   "id": "b61c82b8",
   "metadata": {},
   "outputs": [],
   "source": [
    "class StockPricePrediction():\n",
    "    def __init__(self):\n",
    "        self.history = []\n",
    "        self.test_predictions = []\n",
    "        self.model = None\n",
    "        \n",
    "    def fit_predict_test(self, X_train, X_test, scope=1, p=0, q=0, metrics='change_in_dollar'):\n",
    "        self.test_predictions = []\n",
    "        self.history = X_train.diff().to_list()\n",
    "        for t in range(len(X_test.diff())):\n",
    "            self.model = ARIMA(self.history, order = (p,0,q))\n",
    "            self.model_fit = self.model.fit()\n",
    "            self.test_predictions.append(self.model_fit.forecast(steps=scope))\n",
    "            self.history.append(X_test.diff()[t])\n",
    "            \n",
    "    def predict(self,scope=1):\n",
    "        return self.model_fit.forecast(steps=scope)\n",
    "    \n",
    "    def plot()"
   ]
  },
  {
   "cell_type": "code",
   "execution_count": null,
   "id": "04dbfd86",
   "metadata": {},
   "outputs": [],
   "source": [
    "class MyProfit():\n",
    "    def __init__(self,principle = 10000,metrics=\"change_in_dollar\",scope=1):\n",
    "        self.principle = principle\n",
    "        self.profit = 0\n",
    "        self.scope = scope\n",
    "        self._metrics = {\"price\": 0 , \"change_in_dollar\":1 ,\"change_in_percentage\":2}\n",
    "        self.model_fit = None\n",
    "        self.pred = None\n",
    "        self.sp500_pred = None\n",
    "        \n",
    "    def get_predicted_profit(self, model_fit, history, invest_amount=self.principle,period=1):\n",
    "#         self.model_fit = model_fit\n",
    "#         stock_num = invest_amount//history[-1]\n",
    "#         self.pred = self.model_fit.forecast(steps = self.scope)[::period]\n",
    "#         self.profit = \n",
    "        \n",
    "    def compare_to_SP500(self, scope=\"1d\"):\n",
    "        sp_500 = yf.download('SPY', interval='1d')[\"Adj Close\"]\n",
    "        "
   ]
  },
  {
   "cell_type": "code",
   "execution_count": 7,
   "id": "a2934c45",
   "metadata": {},
   "outputs": [
    {
     "name": "stdout",
     "output_type": "stream",
     "text": [
      "[*********************100%***********************]  1 of 1 completed\n"
     ]
    },
    {
     "data": {
      "text/plain": [
       "192"
      ]
     },
     "execution_count": 7,
     "metadata": {},
     "output_type": "execute_result"
    }
   ],
   "source": [
    "df = yf.download('DIDI', interval='1d')[\"Adj Close\"]\n",
    "iloc  = int(np.floor(len(df.index)*0.8))"
   ]
  },
  {
   "cell_type": "code",
   "execution_count": 9,
   "id": "408675a4",
   "metadata": {},
   "outputs": [],
   "source": [
    "X_train = df.iloc[:iloc]\n",
    "X_test = df.iloc[iloc:]\n",
    "# X_train, X_test"
   ]
  },
  {
   "cell_type": "code",
   "execution_count": 17,
   "id": "5edcf1c2",
   "metadata": {},
   "outputs": [],
   "source": [
    "spc = StockPricePrediction()\n",
    "spc.fit_predict_change(X_train, X_test)"
   ]
  },
  {
   "cell_type": "code",
   "execution_count": 20,
   "id": "fb61025f",
   "metadata": {},
   "outputs": [
    {
     "data": {
      "text/plain": [
       "<AxesSubplot:>"
      ]
     },
     "execution_count": 20,
     "metadata": {},
     "output_type": "execute_result"
    },
    {
     "data": {
      "image/png": "[encoded data removed]",
      "text/plain": [
       "<Figure size 432x288 with 1 Axes>"
      ]
     },
     "metadata": {
      "needs_background": "light"
     },
     "output_type": "display_data"
    }
   ],
   "source": [
    "pd.Series(spc.history).dropna().plot()"
   ]
  },
  {
   "cell_type": "code",
   "execution_count": 28,
   "id": "eea16d18",
   "metadata": {},
   "outputs": [
    {
     "data": {
      "text/plain": [
       "[nan,\n",
       " 2.2599992752075195,\n",
       " -0.869999885559082,\n",
       " -3.0399999618530273,\n",
       " -0.5799999237060547,\n",
       " -0.6999998092651367,\n",
       " 0.8199996948242188,\n",
       " -0.869999885559082,\n",
       " 1.260000228881836,\n",
       " 0.19999980926513672,\n",
       " -0.26000022888183594,\n",
       " -0.3899993896484375,\n",
       " -0.9099998474121094,\n",
       " 0.14999961853027344,\n",
       " 0.28999996185302734,\n",
       " -1.3000001907348633,\n",
       " -2.1399993896484375,\n",
       " -0.020000457763671875,\n",
       " 0.0,\n",
       " 0.8299999237060547,\n",
       " 0.9899997711181641,\n",
       " 0.4500007629394531,\n",
       " 0.06999969482421875,\n",
       " -0.3000001907348633,\n",
       " -0.3599996566772461,\n",
       " -0.3900003433227539,\n",
       " -0.01999950408935547,\n",
       " 0.22999954223632812,\n",
       " -0.36999988555908203,\n",
       " -0.3400001525878906,\n",
       " -0.01999950408935547,\n",
       " -0.49000072479248047,\n",
       " -0.21000003814697266,\n",
       " 0.3600006103515625,\n",
       " -0.5500001907348633,\n",
       " -0.7200002670288086,\n",
       " 0.26999998092651367,\n",
       " 0.25,\n",
       " 0.9800000190734863,\n",
       " -0.4499998092651367,\n",
       " 0.1700000762939453,\n",
       " -0.19999980926513672,\n",
       " -0.039999961853027344,\n",
       " 0.039999961853027344,\n",
       " 0.9799995422363281,\n",
       " -0.3899993896484375,\n",
       " 0.21000003814697266,\n",
       " 0.6699991226196289,\n",
       " -0.7100000381469727,\n",
       " 0.020000457763671875,\n",
       " -0.4499998092651367,\n",
       " 0.11999988555908203,\n",
       " -0.2200002670288086,\n",
       " -0.1700000762939453,\n",
       " -0.1099996566772461,\n",
       " 0.13000011444091797,\n",
       " -0.5500001907348633,\n",
       " -0.1399998664855957,\n",
       " 0.34999990463256836,\n",
       " 0.2200002670288086,\n",
       " -0.2200002670288086,\n",
       " 0.2799997329711914,\n",
       " -0.25999975204467773,\n",
       " -0.19999980926513672,\n",
       " 0.009999752044677734,\n",
       " -0.21000003814697266,\n",
       " -0.309999942779541,\n",
       " 0.19000005722045898,\n",
       " 0.11999988555908203,\n",
       " 0.25,\n",
       " 0.3400001525878906,\n",
       " 0.21000003814697266,\n",
       " 0.06999969482421875,\n",
       " -0.14999961853027344,\n",
       " -0.029999732971191406,\n",
       " -0.010000228881835938,\n",
       " -0.020000457763671875,\n",
       " 0.32000064849853516,\n",
       " 0.05999946594238281,\n",
       " 1.1900005340576172,\n",
       " -0.6200008392333984,\n",
       " -0.3599996566772461,\n",
       " -0.4200000762939453,\n",
       " -0.19999980926513672,\n",
       " 0.05000019073486328,\n",
       " -0.1900005340576172,\n",
       " 0.3900003433227539,\n",
       " -0.23000049591064453,\n",
       " 0.13000011444091797,\n",
       " -0.11999988555908203,\n",
       " -0.11999988555908203,\n",
       " 0.0,\n",
       " 0.0,\n",
       " 0.8299999237060547,\n",
       " 0.010000228881835938,\n",
       " 0.5500001907348633,\n",
       " -0.5,\n",
       " -0.010000228881835938,\n",
       " -0.3599996566772461,\n",
       " -0.21000003814697266,\n",
       " -0.13000011444091797,\n",
       " -0.1700000762939453,\n",
       " -0.010000228881835938,\n",
       " -0.010000228881835938,\n",
       " -0.22999954223632812,\n",
       " -0.07000017166137695,\n",
       " -0.17999982833862305,\n",
       " 0.17999982833862305,\n",
       " -0.009999752044677734,\n",
       " -1.7300000190734863,\n",
       " 0.5999999046325684,\n",
       " 0.5299997329711914,\n",
       " -0.23999977111816406,\n",
       " -0.3000001907348633,\n",
       " -0.1700000762939453,\n",
       " -0.06999969482421875,\n",
       " -0.09999990463256836,\n",
       " -0.25,\n",
       " 0.26999998092651367,\n",
       " -0.059999942779541016,\n",
       " -0.38000011444091797,\n",
       " 0.1399998664855957,\n",
       " -0.4099998474121094,\n",
       " -0.03000020980834961,\n",
       " -0.2999997138977051,\n",
       " 0.07999992370605469,\n",
       " -0.440000057220459,\n",
       " 0.28999996185302734,\n",
       " -0.25,\n",
       " 0.26999998092651367,\n",
       " -0.25,\n",
       " 0.019999980926513672,\n",
       " -0.32000017166137695,\n",
       " -0.19999980926513672,\n",
       " -0.010000228881835938,\n",
       " 0.4100003242492676,\n",
       " 0.059999942779541016,\n",
       " -0.28999996185302734,\n",
       " 0.0,\n",
       " 0.1100001335144043,\n",
       " 0.23000001907348633,\n",
       " 0.34999990463256836,\n",
       " -0.5,\n",
       " -0.09999990463256836,\n",
       " -0.4700002670288086,\n",
       " -0.2199997901916504,\n",
       " -0.1700000762939453,\n",
       " -0.18000006675720215,\n",
       " -0.1100001335144043,\n",
       " 0.0,\n",
       " 0.05000019073486328,\n",
       " -0.10000014305114746,\n",
       " -0.1399998664855957,\n",
       " 0.12999987602233887,\n",
       " 0.3400001525878906,\n",
       " 0.06999993324279785,\n",
       " 0.34999990463256836,\n",
       " -0.31999993324279785,\n",
       " 0.29000020027160645,\n",
       " 0.09999990463256836,\n",
       " 0.07999992370605469,\n",
       " -0.19999980926513672,\n",
       " -0.23000001907348633,\n",
       " 0.2199997901916504,\n",
       " -0.07999992370605469,\n",
       " -0.05000019073486328,\n",
       " -0.029999732971191406,\n",
       " 0.009999752044677734,\n",
       " -0.019999980926513672,\n",
       " -0.07999992370605469,\n",
       " -0.009999990463256836,\n",
       " 0.029999971389770508,\n",
       " -0.019999980926513672,\n",
       " -0.4500000476837158,\n",
       " 0.23000001907348633,\n",
       " -0.39999985694885254,\n",
       " -1.4900001287460327,\n",
       " -0.12999999523162842,\n",
       " 0.039999961853027344,\n",
       " 0.75,\n",
       " 0.009999990463256836,\n",
       " 1.5300002098083496,\n",
       " 0.06999969482421875,\n",
       " -0.15999984741210938,\n",
       " -0.19000005722045898,\n",
       " -0.009999990463256836,\n",
       " -0.5299999713897705,\n",
       " -0.25,\n",
       " 0.039999961853027344,\n",
       " -0.11999988555908203,\n",
       " -0.440000057220459,\n",
       " 0.31999993324279785,\n",
       " nan,\n",
       " -0.34999990463256836,\n",
       " -0.05000019073486328,\n",
       " -0.019999980926513672,\n",
       " -0.059999942779541016,\n",
       " 0.029999971389770508,\n",
       " -0.08999991416931152,\n",
       " 0.07999992370605469,\n",
       " -0.07999992370605469,\n",
       " -0.4500000476837158,\n",
       " 0.009999990463256836,\n",
       " -0.13999998569488525,\n",
       " -0.16999995708465576,\n",
       " 0.009999990463256836,\n",
       " 0.07999992370605469,\n",
       " -0.06999993324279785,\n",
       " 0.04999995231628418,\n",
       " 0.029999971389770508,\n",
       " 0.0700000524520874,\n",
       " 0.11000001430511475,\n",
       " 0.019999980926513672,\n",
       " 0.009999990463256836,\n",
       " -0.07999992370605469,\n",
       " -0.20000004768371582,\n",
       " -0.18000006675720215,\n",
       " 0.010000109672546387,\n",
       " -0.040000081062316895,\n",
       " -0.06999993324279785,\n",
       " 0.029999971389770508,\n",
       " 0.0,\n",
       " 0.019999980926513672,\n",
       " 0.0,\n",
       " 0.10000002384185791,\n",
       " -0.11000001430511475,\n",
       " -0.059999942779541016,\n",
       " 0.039999961853027344,\n",
       " 0.26999998092651367,\n",
       " 0.10000002384185791,\n",
       " 0.15999996662139893,\n",
       " -0.059999942779541016,\n",
       " -0.12999999523162842,\n",
       " 0.08999991416931152,\n",
       " -0.059999942779541016,\n",
       " 0.44999992847442627,\n",
       " -0.059999942779541016,\n",
       " 0.26999998092651367,\n",
       " -0.15000009536743164,\n",
       " -0.06999993324279785]"
      ]
     },
     "execution_count": 28,
     "metadata": {},
     "output_type": "execute_result"
    }
   ],
   "source": [
    "spc.history"
   ]
  },
  {
   "cell_type": "code",
   "execution_count": 32,
   "id": "12dfbfd9",
   "metadata": {},
   "outputs": [
    {
     "data": {
      "text/plain": [
       "<AxesSubplot:>"
      ]
     },
     "execution_count": 32,
     "metadata": {},
     "output_type": "execute_result"
    },
    {
     "data": {
      "image/png": "[encoded data removed]",
      "text/plain": [
       "<Figure size 432x288 with 1 Axes>"
      ]
     },
     "metadata": {
      "needs_background": "light"
     },
     "output_type": "display_data"
    }
   ],
   "source": [
    "\n",
    "pd.Series(spc.predictions).astype(float).plot()"
   ]
  }
 ],
 "metadata": {
  "kernelspec": {
   "display_name": "Python 3 (ipykernel)",
   "language": "python",
   "name": "python3"
  },
  "language_info": {
   "codemirror_mode": {
    "name": "ipython",
    "version": 3
   },
   "file_extension": ".py",
   "mimetype": "text/x-python",
   "name": "python",
   "nbconvert_exporter": "python",
   "pygments_lexer": "ipython3",
   "version": "3.9.7"
  },
  "toc": {
   "base_numbering": 1,
   "nav_menu": {},
   "number_sections": true,
   "sideBar": true,
   "skip_h1_title": false,
   "title_cell": "Table of Contents",
   "title_sidebar": "Contents",
   "toc_cell": false,
   "toc_position": {},
   "toc_section_display": true,
   "toc_window_display": false
  }
 },
 "nbformat": 4,
 "nbformat_minor": 5
}
